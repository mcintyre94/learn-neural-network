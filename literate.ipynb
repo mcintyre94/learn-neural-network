{
 "cells": [
  {
   "cell_type": "code",
   "execution_count": 2,
   "metadata": {},
   "outputs": [],
   "source": [
    "from IPython.core.interactiveshell import InteractiveShell\n",
    "InteractiveShell.ast_node_interactivity = \"all\" # Allow printing multiple outputs from each cell"
   ]
  },
  {
   "cell_type": "code",
   "execution_count": 3,
   "metadata": {},
   "outputs": [],
   "source": [
    "# Dependency for the computations\n",
    "import numpy as np\n",
    "\n",
    "# Dependency only for the charts\n",
    "import matplotlib.pyplot as plt\n",
    "import seaborn as sns # Make matplotlib charts look better\n",
    "sns.set(style='ticks')\n",
    "\n",
    "# Dependency only for adding methods to classes dynamically in jupyter (Jupyter Dynamic Classes)\n",
    "# See https://github.com/jupyter/notebook/issues/1243 and https://alexhagen.github.io/jdc/\n",
    "import jdc"
   ]
  },
  {
   "cell_type": "code",
   "execution_count": 4,
   "metadata": {},
   "outputs": [],
   "source": [
    "%matplotlib inline"
   ]
  },
  {
   "cell_type": "markdown",
   "metadata": {},
   "source": [
    "A literate programming notebook written as I follow http://neuralnetworksanddeeplearning.com/chap1.html (as recommended in fast.ai course lesson 2 notes)\n",
    "\n",
    "This is basically a 'My First Neural Network' notebook with (hopefully) copious documentation, built to learn NumPy and solidify the concepts for me before going back to using the higher-level libraries such as Keras/TensorFlow. It won't use GPU, and it isn't optimised for performance. It's just about checking I understand the concepts fully, and to explore the NumPy APIs.\n",
    "\n",
    "The end goal (based on the chapter 1 content) is to build an entry for the Kaggle MNIST competition, using a neural network, written from scratch - and for that neural network to be general enough for other problems. "
   ]
  },
  {
   "cell_type": "markdown",
   "metadata": {},
   "source": [
    "# Perceptrons\n",
    "\n",
    "A perceptron takes any number of binary inputs $x_0, x_1,..., x_n$ and outputs a single binary value. First we compute $\\sum_j x_j w_j$, where each $w_j \\in \\mathbb{R}$ is a weight (and there are equal numbers of inputs $x_i$ and weights $w_i$). This is the dot product of the two vectors, $\\mathbf{x} \\cdot \\mathbf{w}$, which we can compute using the `np.dot` method."
   ]
  },
  {
   "cell_type": "code",
   "execution_count": 5,
   "metadata": {},
   "outputs": [
    {
     "name": "stdout",
     "output_type": "stream",
     "text": [
      "7\n"
     ]
    }
   ],
   "source": [
    "x = [0, 0, 1, 1, 0] # 5 binary inputs\n",
    "w = [1, 2, 3, 4, 1] # 5 real-valued weights\n",
    "\n",
    "dot = np.dot(x, w)\n",
    "print(dot)"
   ]
  },
  {
   "cell_type": "markdown",
   "metadata": {},
   "source": [
    "So for a perceptron we see that because of the binary-valued inputs, the output of $\\mathbf{x} \\cdot \\mathbf{w}$ is simply the sum of weights $w_j$ where $x_j = 1$. \n",
    "\n",
    "As mentioned, the output of a perceptron is in fact binary-valued, and this is done using a threshold: If $\\mathbf{x} \\cdot \\mathbf{w} \\le threshold$ then the perceptron outputs 0, otherwise it outputs 1. \n",
    "\n",
    "We replace the threshold with bias $-b = threshold$, and move it to the other side of the inequality, such that we have: If $\\mathbf{x} \\cdot \\mathbf{w} + b \\le 0$ then the perceptron outputs 0, otherwise it outputs 1. \n",
    "\n",
    "So we could fully capture a perceptron's behaviour with a simple method:"
   ]
  },
  {
   "cell_type": "code",
   "execution_count": 6,
   "metadata": {},
   "outputs": [
    {
     "data": {
      "text/plain": [
       "1"
      ]
     },
     "execution_count": 6,
     "metadata": {},
     "output_type": "execute_result"
    },
    {
     "data": {
      "text/plain": [
       "0"
      ]
     },
     "execution_count": 6,
     "metadata": {},
     "output_type": "execute_result"
    }
   ],
   "source": [
    "def perceptron(x, w, bias):\n",
    "    if np.dot(x, w) + bias <= 0:\n",
    "        return 0\n",
    "    else: \n",
    "        return 1\n",
    "\n",
    "# For example, using our x and w from before\n",
    "x = [0, 0, 1, 1, 0] \n",
    "w = [1, 2, 3, 4, 1] \n",
    "perceptron(x, w, bias=2)\n",
    "perceptron(x, w, bias=-10)"
   ]
  },
  {
   "cell_type": "code",
   "execution_count": 7,
   "metadata": {},
   "outputs": [
    {
     "data": {
      "text/plain": [
       "1"
      ]
     },
     "execution_count": 7,
     "metadata": {},
     "output_type": "execute_result"
    },
    {
     "data": {
      "text/plain": [
       "1"
      ]
     },
     "execution_count": 7,
     "metadata": {},
     "output_type": "execute_result"
    },
    {
     "data": {
      "text/plain": [
       "1"
      ]
     },
     "execution_count": 7,
     "metadata": {},
     "output_type": "execute_result"
    },
    {
     "data": {
      "text/plain": [
       "0"
      ]
     },
     "execution_count": 7,
     "metadata": {},
     "output_type": "execute_result"
    }
   ],
   "source": [
    "# From the book, using the perceptron to implement NAND \n",
    "w = [-2, -2]\n",
    "bias = 3\n",
    "\n",
    "for x1, x2 in [(0,0), (0,1), (1,0), (1,1)]:\n",
    "    perceptron([x1,x2], w, bias)"
   ]
  },
  {
   "cell_type": "markdown",
   "metadata": {},
   "source": [
    "We can in fact use a perceptron to learn any linearly separable function, including NAND. To show this, let's consider how a perceptron learns. \n",
    "\n",
    "We start with randomly initialised weights and bias terms. We also pass in training data, in tuples of (input, output) ie (x, y). For a binary function this is ((x1, x2), y).\n",
    "\n",
    "Then for each **epoch** (ie the number of times we want to learn), we take each training example, and using its input and our current weights we compute the current value of the perceptron on that input. We find the difference between the expected output `y` and the current output, the error term. Note that this must be computed `y - output` - the order matters. The error term will either be 0, 1 or -1. \n",
    "\n",
    "We adjust the weights in each position $w_i$ by $w_i += \\eta * error * x_i$ ($\\eta$, eta is just a learning rate that we can tweak - it changes how quickly the weights change for wrong examples.) We adjust the bias by $\\eta * error$, since it's not linked to any input directly. \n",
    "\n",
    "Assuming the input training data is linearly separable this algorithm will converge to 100% accuracy in a finite number of epochs. \n",
    "\n",
    "\n",
    "To demonstrate this, we'll define a function to train a perceptron - and demonstrate it on the NAND case. "
   ]
  },
  {
   "cell_type": "code",
   "execution_count": 15,
   "metadata": {},
   "outputs": [],
   "source": [
    "def train_perceptron(training_data, epochs=30, eta=1):\n",
    "    x_len = len(training_data[0][0]) # Tuples of ((xs...), y) - want len xs\n",
    "\n",
    "    w = np.random.rand(x_len) # Random starting weights equal length to x_len, 0-1\n",
    "    bias = np.random.rand() # Random starting bias, 0-1\n",
    "\n",
    "    errors = {} # Count errors at each epoch\n",
    "\n",
    "    for i in range(epochs):\n",
    "        errors[i] = 0\n",
    "        for x, y in training_data:\n",
    "            output = perceptron(x, w, bias)\n",
    "            error = y - output\n",
    "            if error != 0:\n",
    "                errors[i]+=1\n",
    "\n",
    "            w[0] += eta * error * x[0]\n",
    "            w[1] += eta * error * x[1]\n",
    "            bias += eta * error\n",
    "    \n",
    "    return w, bias, errors\n",
    "\n",
    "\n",
    "training_data = [((0,0), 1), ((0, 1), 1), ((1,0), 1), ((1,1), 0)] # Tuples of ((x1,x2), x1 NAND x2)\n",
    "\n",
    "w, b, errors = train_perceptron(training_data)"
   ]
  },
  {
   "cell_type": "code",
   "execution_count": 16,
   "metadata": {},
   "outputs": [
    {
     "data": {
      "text/plain": [
       "<matplotlib.figure.Figure at 0x1079d26d0>"
      ]
     },
     "execution_count": 16,
     "metadata": {},
     "output_type": "execute_result"
    },
    {
     "data": {
      "text/plain": [
       "Text(0.5,0,u'epoch')"
      ]
     },
     "execution_count": 16,
     "metadata": {},
     "output_type": "execute_result"
    },
    {
     "data": {
      "text/plain": [
       "Text(0,0.5,u'errors')"
      ]
     },
     "execution_count": 16,
     "metadata": {},
     "output_type": "execute_result"
    },
    {
     "data": {
      "text/plain": [
       "Text(0.5,1,u'Errors at each epoch')"
      ]
     },
     "execution_count": 16,
     "metadata": {},
     "output_type": "execute_result"
    },
    {
     "data": {
      "text/plain": [
       "[<matplotlib.lines.Line2D at 0x1079b1dd0>]"
      ]
     },
     "execution_count": 16,
     "metadata": {},
     "output_type": "execute_result"
    },
    {
     "data": {
      "image/png": "[encoded data removed]",
      "text/plain": [
       "<matplotlib.figure.Figure at 0x1079d26d0>"
      ]
     },
     "metadata": {},
     "output_type": "display_data"
    }
   ],
   "source": [
    "plt.figure()\n",
    "xs = errors.keys()\n",
    "ys = errors.values()\n",
    "plt.xlabel('epoch')\n",
    "plt.ylabel('errors')\n",
    "plt.title('Errors at each epoch')\n",
    "plt.plot(xs, ys)"
   ]
  },
  {
   "cell_type": "code",
   "execution_count": 17,
   "metadata": {},
   "outputs": [
    {
     "data": {
      "text/plain": [
       "(-1, 1)"
      ]
     },
     "execution_count": 17,
     "metadata": {},
     "output_type": "execute_result"
    },
    {
     "data": {
      "text/plain": [
       "(-1, 1)"
      ]
     },
     "execution_count": 17,
     "metadata": {},
     "output_type": "execute_result"
    },
    {
     "data": {
      "text/plain": [
       "Text(0.5,1,u'Separation boundary found')"
      ]
     },
     "execution_count": 17,
     "metadata": {},
     "output_type": "execute_result"
    },
    {
     "data": {
      "text/plain": [
       "[<matplotlib.lines.Line2D at 0x107abf190>]"
      ]
     },
     "execution_count": 17,
     "metadata": {},
     "output_type": "execute_result"
    },
    {
     "data": {
      "image/png": "[encoded data removed]",
      "text/plain": [
       "<matplotlib.figure.Figure at 0x107abf050>"
      ]
     },
     "metadata": {},
     "output_type": "display_data"
    }
   ],
   "source": [
    "x_intersect = [0,-bias/w[1]]\n",
    "y_intersect = [-bias/w[0],0]\n",
    "plt.xlim([-1,1])\n",
    "plt.ylim([-1,1])\n",
    "plt.title('Separation boundary found')\n",
    "plt.plot(x_intersect, y_intersect)"
   ]
  },
  {
   "cell_type": "markdown",
   "metadata": {},
   "source": [
    "We can see the effect of using a smaller eta variable on the same training data:"
   ]
  },
  {
   "cell_type": "code",
   "execution_count": 18,
   "metadata": {},
   "outputs": [
    {
     "data": {
      "text/plain": [
       "<matplotlib.figure.Figure at 0x107c59fd0>"
      ]
     },
     "execution_count": 18,
     "metadata": {},
     "output_type": "execute_result"
    },
    {
     "data": {
      "text/plain": [
       "Text(0.5,0,u'epoch')"
      ]
     },
     "execution_count": 18,
     "metadata": {},
     "output_type": "execute_result"
    },
    {
     "data": {
      "text/plain": [
       "Text(0,0.5,u'errors')"
      ]
     },
     "execution_count": 18,
     "metadata": {},
     "output_type": "execute_result"
    },
    {
     "data": {
      "text/plain": [
       "Text(0.5,1,u'Errors at each epoch')"
      ]
     },
     "execution_count": 18,
     "metadata": {},
     "output_type": "execute_result"
    },
    {
     "data": {
      "text/plain": [
       "[<matplotlib.lines.Line2D at 0x107b85c50>]"
      ]
     },
     "execution_count": 18,
     "metadata": {},
     "output_type": "execute_result"
    },
    {
     "data": {
      "image/png": "[encoded data removed]",
      "text/plain": [
       "<matplotlib.figure.Figure at 0x107c59fd0>"
      ]
     },
     "metadata": {},
     "output_type": "display_data"
    }
   ],
   "source": [
    "w, b, errors = train_perceptron(training_data, eta=0.05)\n",
    "\n",
    "plt.figure()\n",
    "xs = errors.keys()\n",
    "ys = errors.values()\n",
    "plt.xlabel('epoch')\n",
    "plt.ylabel('errors')\n",
    "plt.title('Errors at each epoch')\n",
    "plt.plot(xs, ys)"
   ]
  },
  {
   "cell_type": "markdown",
   "metadata": {},
   "source": [
    "Perceptrons have some limitations:\n",
    "\n",
    "- They only converge for linearly separable problems, which most interesting problems are not\n",
    "- Because they use a step function, we can't make small tweaks to their output - it's either 0 or 1\n",
    "\n",
    "The way we deal with the first issue will be by building networks of neurons, where the output of one layer can be inputs to the next layer. This allows us to solve complex problems (or, mathematically - can approximate to an arbitrary accuracy any function). However this exasperates our second problem - without being able to tweak our perceptrons in a predictable way we're not going to be able to create a trainable network of them. \n",
    "\n",
    "For this reason, we change the non-linearity, that is the **activation function**. Our computed $\\mathbf{x} \\cdot \\mathbf{w} + b$ doesn't need to change, but instead of using the inequality with 0, we pass this value to a different function."
   ]
  },
  {
   "cell_type": "markdown",
   "metadata": {},
   "source": [
    "# Sigmoid neurons\n",
    "\n",
    "The sigmoid neuron uses the activation function $\\sigma(z) = \\frac{1}{1+e^-z}$, where z is our computed $\\mathbf{x} \\cdot \\mathbf{w} + b$. Before we code this, we can examine its shape:"
   ]
  },
  {
   "cell_type": "code",
   "execution_count": 19,
   "metadata": {},
   "outputs": [],
   "source": [
    "def sigmoid_fn(x):\n",
    "    return 1/(1+np.exp(-x))"
   ]
  },
  {
   "cell_type": "code",
   "execution_count": 20,
   "metadata": {},
   "outputs": [
    {
     "data": {
      "text/plain": [
       "Text(0.5,1,u'Sigmoid')"
      ]
     },
     "execution_count": 20,
     "metadata": {},
     "output_type": "execute_result"
    },
    {
     "data": {
      "text/plain": [
       "[<matplotlib.lines.Line2D at 0x107b9e450>]"
      ]
     },
     "execution_count": 20,
     "metadata": {},
     "output_type": "execute_result"
    },
    {
     "data": {
      "image/png": "[encoded data removed]",
      "text/plain": [
       "<matplotlib.figure.Figure at 0x107b9e190>"
      ]
     },
     "metadata": {},
     "output_type": "display_data"
    }
   ],
   "source": [
    "xs = np.linspace(-5,5,100) # 100 evenly spaced values between -5 and 5\n",
    "ys = sigmoid_fn(xs)\n",
    "\n",
    "plt.title('Sigmoid')\n",
    "plt.plot(xs, ys)"
   ]
  },
  {
   "cell_type": "code",
   "execution_count": 21,
   "metadata": {},
   "outputs": [
    {
     "data": {
      "text/plain": [
       "Text(0.5,1,u'Step function')"
      ]
     },
     "execution_count": 21,
     "metadata": {},
     "output_type": "execute_result"
    },
    {
     "data": {
      "text/plain": [
       "[<matplotlib.lines.Line2D at 0x107c77dd0>]"
      ]
     },
     "execution_count": 21,
     "metadata": {},
     "output_type": "execute_result"
    },
    {
     "data": {
      "image/png": "[encoded data removed]",
      "text/plain": [
       "<matplotlib.figure.Figure at 0x107c771d0>"
      ]
     },
     "metadata": {},
     "output_type": "display_data"
    }
   ],
   "source": [
    "# Compare this to the step function:\n",
    "\n",
    "def step(x):\n",
    "    return 1 if x>0 else 0\n",
    "\n",
    "xs = np.linspace(-5,5,100) # 100 evenly spaced values between -5 and 5\n",
    "ys = [step(x) for x in xs]\n",
    "\n",
    "plt.title('Step function')\n",
    "plt.plot(xs, ys)"
   ]
  },
  {
   "cell_type": "markdown",
   "metadata": {},
   "source": [
    "We can see that the sigmoid is a smoothed step function, maintaining the bounds of 0 and 1, but changing by only a small amount each time its input changes. This is the only difference between the sigmoid and perceptron, but it turns out to be significant. "
   ]
  },
  {
   "cell_type": "markdown",
   "metadata": {},
   "source": [
    "At this point it makes sense to generalise our code to define a neuron, with a view to eventually building up a neural network - that is, a network of layers of neurons. So let's define a neuron:"
   ]
  },
  {
   "cell_type": "code",
   "execution_count": 22,
   "metadata": {},
   "outputs": [],
   "source": [
    "class Neuron:\n",
    "    def __init__(self, num_inputs, activation_function):\n",
    "        # We always initialise a neuron with random weights and bias\n",
    "        # We must pass an activation function, as this is different for each type of neuron\n",
    "        self.weights = np.random.rand(num_inputs)\n",
    "        self.bias = np.random.rand()\n",
    "        self.num_inputs = num_inputs # This will let us generalise updates\n",
    "        self.activation_function = activation_function\n",
    "        \n",
    "    def _compute_value(self, xs):\n",
    "        # Compute the value of the neuron for the given inputs\n",
    "        return np.dot(xs, self.weights) + self.bias\n",
    "    \n",
    "    def get_value(self, xs):\n",
    "        return self.activation_function(self._compute_value(xs))"
   ]
  },
  {
   "cell_type": "markdown",
   "metadata": {},
   "source": [
    "Essentially, a neuron knows how to compute its value from its weights and bias term, and it has an activation function, which takes such a value and computes the desired output for the neuron. "
   ]
  },
  {
   "cell_type": "code",
   "execution_count": 23,
   "metadata": {},
   "outputs": [
    {
     "data": {
      "text/plain": [
       "1"
      ]
     },
     "execution_count": 23,
     "metadata": {},
     "output_type": "execute_result"
    },
    {
     "data": {
      "text/plain": [
       "0.67333016871556794"
      ]
     },
     "execution_count": 23,
     "metadata": {},
     "output_type": "execute_result"
    }
   ],
   "source": [
    "# So a perceptron is simply:\n",
    "perceptron = Neuron(2, activation_function = step)\n",
    "perceptron.get_value([0,0])\n",
    "\n",
    "# And a sigmoid is simply:\n",
    "sigmoid = Neuron(2, activation_function = sigmoid_fn)\n",
    "sigmoid.get_value([0,0])"
   ]
  },
  {
   "cell_type": "markdown",
   "metadata": {},
   "source": [
    "Now we can re-implement our learning method using the generic neuron (and thus supporting any given activation function)"
   ]
  },
  {
   "cell_type": "code",
   "execution_count": 27,
   "metadata": {},
   "outputs": [],
   "source": [
    "%%add_to Neuron\n",
    "def train(self, training_data, epochs=30, eta=0.05):\n",
    "    errors = {}\n",
    "\n",
    "    for i in range(epochs):\n",
    "        errors[i] = 0\n",
    "        for X, y in training_data:\n",
    "            output = self.get_value(X)\n",
    "            error = y - output\n",
    "            if np.absolute(error) > 0.5: # Not a binary output, so allow some difference here - as long as we're close\n",
    "                errors[i]+=1\n",
    "\n",
    "            # Update each weight in turn, and the bias\n",
    "            for j in range(self.num_inputs):\n",
    "                self.weights[j] += eta * error * X[j]\n",
    "            self.bias += eta * error\n",
    "    \n",
    "    return errors"
   ]
  },
  {
   "cell_type": "code",
   "execution_count": 28,
   "metadata": {},
   "outputs": [],
   "source": [
    "sigmoid = Neuron(2, activation_function = step) # Make sure we re-create the neuron to get the new method included\n",
    "errors = sigmoid.train(training_data)"
   ]
  },
  {
   "cell_type": "code",
   "execution_count": 29,
   "metadata": {},
   "outputs": [
    {
     "data": {
      "text/plain": [
       "(-1, 1)"
      ]
     },
     "execution_count": 29,
     "metadata": {},
     "output_type": "execute_result"
    },
    {
     "data": {
      "text/plain": [
       "(-1, 1)"
      ]
     },
     "execution_count": 29,
     "metadata": {},
     "output_type": "execute_result"
    },
    {
     "data": {
      "text/plain": [
       "Text(0.5,1,u'Separation boundary found')"
      ]
     },
     "execution_count": 29,
     "metadata": {},
     "output_type": "execute_result"
    },
    {
     "data": {
      "text/plain": [
       "[<matplotlib.lines.Line2D at 0x107e3a0d0>]"
      ]
     },
     "execution_count": 29,
     "metadata": {},
     "output_type": "execute_result"
    },
    {
     "data": {
      "image/png": "[encoded data removed]",
      "text/plain": [
       "<matplotlib.figure.Figure at 0x107e3a050>"
      ]
     },
     "metadata": {},
     "output_type": "display_data"
    }
   ],
   "source": [
    "x_intersect = [0,-sigmoid.bias/sigmoid.weights[1]]\n",
    "y_intersect = [-sigmoid.bias/sigmoid.weights[0],0]\n",
    "plt.xlim([-1,1])\n",
    "plt.ylim([-1,1])\n",
    "plt.title('Separation boundary found')\n",
    "plt.plot(x_intersect, y_intersect)"
   ]
  },
  {
   "cell_type": "code",
   "execution_count": 30,
   "metadata": {},
   "outputs": [
    {
     "data": {
      "text/plain": [
       "<matplotlib.figure.Figure at 0x107ffe450>"
      ]
     },
     "execution_count": 30,
     "metadata": {},
     "output_type": "execute_result"
    },
    {
     "data": {
      "text/plain": [
       "Text(0.5,0,u'epoch')"
      ]
     },
     "execution_count": 30,
     "metadata": {},
     "output_type": "execute_result"
    },
    {
     "data": {
      "text/plain": [
       "Text(0,0.5,u'errors')"
      ]
     },
     "execution_count": 30,
     "metadata": {},
     "output_type": "execute_result"
    },
    {
     "data": {
      "text/plain": [
       "Text(0.5,1,u'Errors at each epoch')"
      ]
     },
     "execution_count": 30,
     "metadata": {},
     "output_type": "execute_result"
    },
    {
     "data": {
      "text/plain": [
       "[<matplotlib.lines.Line2D at 0x107f17ed0>]"
      ]
     },
     "execution_count": 30,
     "metadata": {},
     "output_type": "execute_result"
    },
    {
     "data": {
      "image/png": "[encoded data removed]",
      "text/plain": [
       "<matplotlib.figure.Figure at 0x107ffe450>"
      ]
     },
     "metadata": {},
     "output_type": "display_data"
    }
   ],
   "source": [
    "plt.figure()\n",
    "xs = errors.keys()\n",
    "ys = errors.values()\n",
    "plt.xlabel('epoch')\n",
    "plt.ylabel('errors')\n",
    "plt.title('Errors at each epoch')\n",
    "plt.plot(xs, ys)"
   ]
  },
  {
   "cell_type": "markdown",
   "metadata": {},
   "source": [
    "# A layer of neurons: Naive\n",
    "\n",
    "Like a perceptron, a sigmoid can only classify linearly separable problems. To solve general problems we need to have multiple layers of neurons - and because each neuron has a non-linear activation function this will provide us a non-linear system and allow us to approximate non-linearly separable (actually, all) functions. \n",
    "\n",
    "Let's first consider what a layer of neurons actually looks like, in the simplest way:"
   ]
  },
  {
   "cell_type": "code",
   "execution_count": 31,
   "metadata": {},
   "outputs": [],
   "source": [
    "class Layer:     \n",
    "    def __init__(self):\n",
    "        self.neurons = []\n",
    "    \n",
    "    def add_neuron(self, neuron):\n",
    "        self.neurons.append(neuron)\n",
    "        \n",
    "    def evaluate(self, xs):\n",
    "        outputs = []\n",
    "        for neuron in self.neurons:\n",
    "            outputs.append(neuron.get_value(xs))\n",
    "        \n",
    "        return outputs"
   ]
  },
  {
   "cell_type": "markdown",
   "metadata": {},
   "source": [
    "A layer of neurons just contains the neurons that have been added to it. It receives some input - just like a single neuron does - but its output contains the computed value of each neuron in the layer.\n",
    "\n",
    "The way to think of this is as the layer receiving the output of the previous layer, or the inputs to the network as a whole. Then the outputs of this layer could be the outputs of the network as a whole, or they could be fed forward into the next layer. \n",
    "\n",
    "In each layer, every neuron receives as input the complete output of the last layer. We call these layers 'fully connected' or 'dense', and they're the only sort of layer we'll consider here. \n",
    "\n",
    "Consider a layer of 3 neurons:"
   ]
  },
  {
   "cell_type": "code",
   "execution_count": 32,
   "metadata": {},
   "outputs": [
    {
     "data": {
      "text/plain": [
       "[0.2755293106871225, 0.053544231627348934, 0.15982507719850469]"
      ]
     },
     "execution_count": 32,
     "metadata": {},
     "output_type": "execute_result"
    },
    {
     "data": {
      "text/plain": [
       "[0.70237055382612534,\n",
       " 0.72178494380610236,\n",
       " 0.85671029075823379,\n",
       " 0.76892701867325386,\n",
       " 0.39115699908851059,\n",
       " 0.75432878559414729]"
      ]
     },
     "execution_count": 32,
     "metadata": {},
     "output_type": "execute_result"
    }
   ],
   "source": [
    "layer = Layer()\n",
    "for i in range(3): # Add 3 neurons\n",
    "    sig = Neuron(4, activation_function = sigmoid_fn) # Each sigmoid takes 4 inputs\n",
    "    layer.add_neuron(sig)\n",
    "\n",
    "layer.evaluate([1,-4,3,-6]) # We can evaluate any 4 real numbers as input\n",
    "\n",
    "for i in range(3): # Add 3 more neurons\n",
    "    sig = Neuron(4, activation_function = sigmoid_fn) # Each sigmoid takes 4 inputs\n",
    "    layer.add_neuron(sig)\n",
    "\n",
    "layer.evaluate([1, 0, 1, -1])"
   ]
  },
  {
   "cell_type": "markdown",
   "metadata": {},
   "source": [
    "As we can see, our layer takes as input 4 values, and each of its neurons can take as input such a list. It evaluates to 3 outputs, because we added 3 neurons. When we add another 3 neurons for a total of 6, it evaluates to 6 outputs.\n",
    "\n",
    "Clearly all of our neurons need to share the same number of inputs - the same input it passed to all of them when we evaluate them. A better API would enforce this constraint. I'm not sure if there's ever a reason to mix-and-match activation functions within a layer, but we're not going to do that here - so let's also make the activation function a parameter of the `Layer` and enforce that it's the same for all neurons. Here's a better API for a `Layer`:"
   ]
  },
  {
   "cell_type": "code",
   "execution_count": 33,
   "metadata": {},
   "outputs": [
    {
     "data": {
      "text/plain": [
       "[0.99631680481880813, 0.99376412224452493, 0.99655608152339981]"
      ]
     },
     "execution_count": 33,
     "metadata": {},
     "output_type": "execute_result"
    },
    {
     "data": {
      "text/plain": [
       "[0.8555470221482282,\n",
       " 0.59072577175941954,\n",
       " 0.74822193620618338,\n",
       " 0.83299274155104219,\n",
       " 0.86661320418032395,\n",
       " 0.76620405619019327]"
      ]
     },
     "execution_count": 33,
     "metadata": {},
     "output_type": "execute_result"
    }
   ],
   "source": [
    "class Layer:\n",
    "    def __init__(self, num_inputs, num_neurons, activation_function):\n",
    "        self.neurons = []\n",
    "        for i in range(num_neurons):\n",
    "            neuron = Neuron(num_inputs, activation_function)\n",
    "            self.neurons.append(neuron)\n",
    "            \n",
    "    def evaluate(self, xs):\n",
    "        outputs = []\n",
    "        for neuron in self.neurons:\n",
    "            outputs.append(neuron.get_value(xs))\n",
    "        \n",
    "        return outputs\n",
    "    \n",
    "layer = Layer(4, 3, sigmoid_fn)\n",
    "layer.evaluate([1,2,3,4])\n",
    "\n",
    "layer = Layer(4, 6, sigmoid_fn)\n",
    "layer.evaluate([1,-1,1,-1])"
   ]
  },
  {
   "cell_type": "markdown",
   "metadata": {},
   "source": [
    "Notice that we've lost some power here - we can no longer add to a layer after it's been created. It'd be easy enough to add that back, but we won't need to do that here so we'll keep the simpler class going forward. "
   ]
  },
  {
   "cell_type": "markdown",
   "metadata": {},
   "source": [
    "# Representing a layer as a matrix\n",
    "\n",
    "Recall what's happening when we compute the value of each neuron - we compute $\\mathbf{w} \\cdot \\mathbf{x} + b$, and then we pass that to the activation function (eg. step or sigmoid).\n",
    "\n",
    "If we say that $\\mathbf{x}$, our input vector, is a column vector (which makes sense graphically if we vertically align neurons within a layer) of length $n$, then we know that $\\mathbf{w}$ is also a vector of length $n$. If we say that $\\mathbf{w}$ is a row vector (or we transpose it from a column vector so that it is), then we can compute the dot product by doing a matrix multiply of the two vectors.\n",
    "\n",
    "For example, let's say that $\\mathbf{w} = \\begin{pmatrix}1 & 2 & 3\\end{pmatrix}$ and $\\mathbf{x} = \\begin{pmatrix}5 \\\\ 10 \\\\ 2 \\end{pmatrix}$, then we can compute their dot product $\\mathbf{w} \\cdot \\mathbf{x} = \\begin{pmatrix}1 & 2 & 3 \\end{pmatrix} \\cdot \\begin{pmatrix}5 \\\\ 10 \\\\ 2\\end{pmatrix}  = (1x5) + (2x10) + (3x2) = 31$\n",
    "\n",
    "If we have a second neuron in the same layer (so receiving the same input $\\mathbf{x}$), with weights $\\mathbf{w'} = \\begin{pmatrix}2 & -2 & 0\\end{pmatrix}$, then we can say that $\\mathbf{w'} \\cdot \\mathbf{x} = \\begin{pmatrix}2 & -2 & 0\\end{pmatrix} \\cdot \\begin{pmatrix}5 \\\\ 10 \\\\ 2 \\end{pmatrix} = (2x5) + (-2x10) + (0x2) = -10$\n",
    "\n",
    "Then we can say that the dot products for our layer are $\\begin{pmatrix}31 \\\\ -10\\end{pmatrix}$. Recall that the value (before the activation function) is $\\mathbf{w} \\cdot \\mathbf{x} + b$ - so we need to deal with our bias terms. Suppose the first neuron had bias $b = 3$ and the second neuron $b' = 5$, then we can add the bias terms using vector addition: $\\begin{pmatrix}31 \\\\ -10\\end{pmatrix} + \\begin{pmatrix}3 \\\\ 5\\end{pmatrix} = \\begin{pmatrix}34 \\\\ -5\\end{pmatrix}$\n",
    "\n",
    "And finally we apply the activation function, say for simplicity that these are perceptrons: $\\begin{pmatrix} 1 \\\\\n",
    "0\\end{pmatrix}$\n",
    "\n",
    "This works, but we haven't actually gained anything - we've just split adding our bias and passing through the activation function to the end, doing it after we've done each dot product - but we're still doing individual dot products, and then combining them into a vector we can add the bias terms to and then element-wise applying the activation function. It turns out that we can use matrix multiplication to compute all the neurons in the layer at the same time. We say that $\\mathbf{W}$ is a matrix, where each row is the weights of a single neuron. So for the above 2-neuron layer:\n",
    "$\\mathbf{W} = \\begin{pmatrix} 1 & 2 & 3 \\\\ 2 & -2 & 0 \\end{pmatrix}$. Now, we use matrix multiplication: \n",
    "$\\begin{pmatrix} 1 & 2 & 3 \\\\ 2 & -2 & 0 \\end{pmatrix} \\cdot \\begin{pmatrix}5 \\\\ 10 \\\\ 2 \\end{pmatrix} = \\begin{pmatrix}31 \\\\ -10 \\end{pmatrix}$\n",
    "\n",
    "We then add our bias terms, and apply the activation function to each element as before. \n",
    "\n",
    "This gives us a different way to view a layer of our network, it's simply a matrix $\\mathbf{W}$ and a vector $\\mathbf{b}$ - we don't need to loop over all our neurons or even define them as their own objects. The matrix has one row for each neuron (representing its weights). The length of each neuron's weights (ie the number of columns) is equal to the input. If we say we have m inputs to our layer, and n neurons in the layer, then our matrix multiply $\\mathbf{W} \\cdot \\mathbf{x}$ looks like $(nxm) \\cdot (mx1) = (nx1)$. This is what we'd expect, and explains why our weight matrix must be that specific shape. Each layer takes as input a column vector, and outputs a column vector of a length determined by its number of neurons.\n",
    "\n",
    "Of course, our last layer needs to have the expected output shape for the problem - and therefore has a known number of rows. We can control the number of neurons, and thus rows, in all other layers though."
   ]
  },
  {
   "cell_type": "code",
   "execution_count": 55,
   "metadata": {},
   "outputs": [
    {
     "data": {
      "text/plain": [
       "array([[ 0.20834545],\n",
       "       [ 0.35991183]])"
      ]
     },
     "execution_count": 55,
     "metadata": {},
     "output_type": "execute_result"
    }
   ],
   "source": [
    "# Rewriting our Layer using the matrix multiply form\n",
    "class Layer:\n",
    "        def __init__(self, num_inputs, num_neurons, activation_function):\n",
    "            # We use Xavier initialization, variance = 2/(in size + out size) - this scales our random weights sensibly\n",
    "            # The shape of our weights is n x m, where m = num columns = num_inputs, and n=num rows = num_neurons\n",
    "            variance = 2/float(num_inputs + num_neurons)\n",
    "            self.weights = np.random.normal(scale=variance, size=(num_neurons, num_inputs))           \n",
    "            \n",
    "            # The shape of bias is 1 row, with a column for each neuron - a row vector.\n",
    "            self.bias = np.random.random_sample(size=(num_neurons, 1))\n",
    "            \n",
    "            self.activation_function = activation_function\n",
    "            \n",
    "        def evaluate(self, x):\n",
    "            # First, matrix multiply `W` by `x`, ie. weights by activations\n",
    "            wx = np.matmul(self.weights, x)\n",
    "            \n",
    "            # Add the bias term\n",
    "            add_b = wx + self.bias\n",
    "            \n",
    "            # Pass through the activation function\n",
    "            return self.activation_function(add_b)\n",
    "\n",
    "layer = Layer(3, 2, sigmoid_fn)\n",
    "x = np.array([1,2,3]).reshape(3,1)\n",
    "\n",
    "layer.evaluate(x)"
   ]
  },
  {
   "cell_type": "markdown",
   "metadata": {},
   "source": [
    "# From a layer to a network\n",
    "\n",
    "Now we have everything that we need to define a simple feed-forward neural network consisting of dense layers of neurons: we'll include our input and output layers as a layer of neurons, and we can have any layers between them - we just need to make sure our dimensions all match up.\n",
    "\n",
    "We won't consider our MNIST dataset in any detail yet, other than to say that it contains images of 28x28 greyscale pixels. One obvious way to represent this as an input would be as 28x28=784 values, with each representing the intensity of one pixel. Our job is to classify which number the image is a drawing of, a single digit 0-9. So our final layer will have 10 outputs representing the digits 0-9, each representing the probability that the image is that digit. We would predict that the drawing is the digit with the highest probability. We call all other layers (those that aren't the input or output layer) hidden layers, and we can choose how many of these we want, and how complex they should be. \n",
    "\n",
    "For example, if we wanted a single hidden layer with 40 neurons, then we'd need two layers of neurons:\n",
    "- A layer that takes as input 784 values, and has 40 neurons, and thus outputs 40 values - our hidden layer\n",
    "- A layer that takes as input 40 values, and has 10 neurons, and thus outputs 10 values - our output layer\n",
    "\n",
    "We'd generate predictions by evaluating the hidden layer with the input of 784 values, and then evaluating the output layer with the input of 40 values resulting from that. \n",
    "\n",
    "If we wanted to have two hidden layers with 50 and 110 neurons respectively, then we'd need three layers of neurons:\n",
    "- A layer that takes as input 784 values, and has 50 neurons, and thus outputs 50 values - our first hidden layer\n",
    "- A layer that takes as input 50 values, and has 110 neurons, and thus outputs 110 values - our second hidden layer\n",
    "- A layer that takes as input 110 values, and has 10 neurons, and thus outputs 10 values - our output layer"
   ]
  },
  {
   "cell_type": "code",
   "execution_count": 56,
   "metadata": {},
   "outputs": [],
   "source": [
    "# Let's see how a network looks in practice\n",
    "class Network:\n",
    "    def __init__(self):\n",
    "        self.layers = []\n",
    "        \n",
    "    def add_layer(self, layer):\n",
    "        self.layers.append(layer)\n",
    "        \n",
    "    def evaluate(self, x):\n",
    "        value = x\n",
    "        for layer in self.layers:\n",
    "            value = layer.evaluate(value)\n",
    "        \n",
    "        return value"
   ]
  },
  {
   "cell_type": "markdown",
   "metadata": {},
   "source": [
    "This looks very similar to our first attempt at a `Layer`, but this time we won't simplify any further: we want to permit any layer to be used in our network (so a network can contain layers with different activation functions), and additionally as each layer has a non-linearity (the activation function) we can't simplify the computation any further."
   ]
  },
  {
   "cell_type": "code",
   "execution_count": 57,
   "metadata": {},
   "outputs": [],
   "source": [
    "# Our examples of networks from above, using sigmoids:\n",
    "net1 = Network()\n",
    "net1.add_layer(Layer(784, 40, sigmoid_fn)) # Hidden layer\n",
    "net1.add_layer(Layer(40, 10, sigmoid_fn)) # Output layer\n",
    "\n",
    "net2 = Network()\n",
    "net2.add_layer(Layer(784, 50, sigmoid_fn)) # First hidden layer\n",
    "net2.add_layer(Layer(50, 110, sigmoid_fn)) # Second hidden layer\n",
    "net2.add_layer(Layer(110, 10, sigmoid_fn))"
   ]
  },
  {
   "cell_type": "code",
   "execution_count": 58,
   "metadata": {},
   "outputs": [
    {
     "data": {
      "text/plain": [
       "array([[ 0.46183332],\n",
       "       [ 0.65002161],\n",
       "       [ 0.59968076],\n",
       "       [ 0.60948545],\n",
       "       [ 0.66254801],\n",
       "       [ 0.59338417],\n",
       "       [ 0.49208583],\n",
       "       [ 0.60876147],\n",
       "       [ 0.52749817],\n",
       "       [ 0.74000627]])"
      ]
     },
     "execution_count": 58,
     "metadata": {},
     "output_type": "execute_result"
    },
    {
     "data": {
      "text/plain": [
       "array([[ 0.52940727],\n",
       "       [ 0.5108174 ],\n",
       "       [ 0.57765782],\n",
       "       [ 0.74672305],\n",
       "       [ 0.67252932],\n",
       "       [ 0.63481582],\n",
       "       [ 0.62433646],\n",
       "       [ 0.59536096],\n",
       "       [ 0.50416334],\n",
       "       [ 0.50287293]])"
      ]
     },
     "execution_count": 58,
     "metadata": {},
     "output_type": "execute_result"
    }
   ],
   "source": [
    "x = np.random.random_sample(size=(784,1))\n",
    "\n",
    "net1.evaluate(x)\n",
    "net2.evaluate(x)"
   ]
  },
  {
   "cell_type": "markdown",
   "metadata": {},
   "source": [
    "# Training the network\n",
    "\n",
    "At this point we've got everything that we need to build a network, made of layers of neurons - to compute any classification problem. We do this by feeding the input through the layers, so we call this a feed-forward network. The problem we have now is training it: we can be given inputs and known outputs, we can pass it the input and observe the output, but we don't yet have a way to adjust the weights. We can't update them like we did for a single neuron - that doesn't capture our more subtle relationship between neurons within our network. \n",
    "\n",
    "This is where backpropagation comes in."
   ]
  },
  {
   "cell_type": "code",
   "execution_count": 41,
   "metadata": {},
   "outputs": [],
   "source": []
  },
  {
   "cell_type": "code",
   "execution_count": 59,
   "metadata": {},
   "outputs": [],
   "source": [
    "# Our activation function needs to be differentiable\n",
    "class Sigmoid_cls:\n",
    "    def __init__(self):\n",
    "        pass\n",
    "    \n",
    "    def compute(self, z):\n",
    "        return 1/(1+np.exp(-z))\n",
    "    \n",
    "    def derivative(self, z):\n",
    "        return self.compute(z)*(1-self.compute(z))"
   ]
  },
  {
   "cell_type": "code",
   "execution_count": 72,
   "metadata": {},
   "outputs": [],
   "source": [
    "%%add_to Layer\n",
    "# Backprop is simpler if we calculate both the weighted input z(x) ie wx + b, as well as f(z(x)) ie sigmoid\n",
    "# So modify layer:\n",
    "def weighted_input(self, x):\n",
    "    # First, matrix multiply `W` by `x`, ie. weights by activation\n",
    "    wx= np.matmul(self.weights, x)\n",
    "            \n",
    "    # Add the bias term\n",
    "    add_b = wx + self.bias\n",
    "    \n",
    "    # We return without applying the activation function\n",
    "    return add_b\n",
    "\n",
    "def evaluate(self, xs):\n",
    "    # Pass the weighted input through the activation function\n",
    "    return self.activation_function.compute(self.weighted_input(xs))"
   ]
  },
  {
   "cell_type": "code",
   "execution_count": null,
   "metadata": {},
   "outputs": [],
   "source": []
  },
  {
   "cell_type": "code",
   "execution_count": null,
   "metadata": {},
   "outputs": [],
   "source": []
  },
  {
   "cell_type": "code",
   "execution_count": null,
   "metadata": {},
   "outputs": [],
   "source": []
  },
  {
   "cell_type": "code",
   "execution_count": 73,
   "metadata": {},
   "outputs": [],
   "source": [
    "%%add_to Network\n",
    "# We use the quadratic cost function, which has a known derivative \n",
    "# Note: To use a different cost function we'd need to use a wrapper like Sigmoid_cls to store derivative too\n",
    "def cost_derivative(self, computed_activations, desired_output):\n",
    "    return (computed_activations - desired_output)"
   ]
  },
  {
   "cell_type": "code",
   "execution_count": 132,
   "metadata": {},
   "outputs": [],
   "source": [
    "%%add_to Network\n",
    "# Changing from xs to x because backprop views the training example as a single input vector and an output one\n",
    "def backprop(self, x, y):\n",
    "\n",
    "    gradient_b = [np.zeros(layer.bias.shape) for layer in self.layers] # layer-by-layer gradients wrt biases\n",
    "    gradient_w = [np.zeros(layer.weights.shape) for layer in self.layers] # layer-by-layer gradients wrt weights\n",
    "    \n",
    "    # Feedforward - pass the x through the current network, same effect as evaluate\n",
    "    activation = x # Current activation passing through\n",
    "    activations = [x] # Activations, per layer, starting from input\n",
    "    zs = [] # Weighted inputs, per layer, starting from first non-input layer\n",
    "    for layer in self.layers:\n",
    "        z = layer.weighted_input(activation)\n",
    "        zs.append(z)\n",
    "        activation = layer.activation_function.compute(z)\n",
    "        activations.append(activation)\n",
    "    \n",
    "    print activations[-1]\n",
    "    \n",
    "    # Backward pass - propagate errors backward\n",
    "    last_layer = self.layers[-1]\n",
    "    delta = self.cost_derivative(activations[-1], y) * last_layer.activation_function.derivative(zs[-1])\n",
    "    \n",
    "    gradient_b[-1] = delta\n",
    "    gradient_w[-1] = np.dot(delta, activations[-2].transpose())\n",
    "    \n",
    "    # Using negative indices to count backward, so this is from 2nd-to-last to first\n",
    "    for this_l in range(2, len(self.layers)+1):\n",
    "        z = zs[-this_l]\n",
    "        this_layer = self.layers[-this_l]\n",
    "        sp = this_layer.activation_function.derivative(z)\n",
    "        \n",
    "        next_layer = self.layers[-this_l+1] # The layer after this one\n",
    "        delta = np.dot(next_layer.weights.transpose(), delta) * sp\n",
    "        \n",
    "        gradient_b[-this_l] = delta\n",
    "        \n",
    "        activation_before = activations[-this_l-1]\n",
    "        gradient_w[-this_l] = np.dot(delta, activation_before.transpose())\n",
    "    \n",
    "    print(activations[-1])\n",
    "    print\n",
    "    \n",
    "    return (gradient_b, gradient_w)"
   ]
  },
  {
   "cell_type": "code",
   "execution_count": 138,
   "metadata": {},
   "outputs": [
    {
     "name": "stdout",
     "output_type": "stream",
     "text": [
      "[[ 0.7765144 ]\n",
      " [ 0.40747189]]\n",
      "[[ 0.7765144 ]\n",
      " [ 0.40747189]]\n",
      "\n",
      "[[ 0.80168668]\n",
      " [ 0.32050936]]\n",
      "[[ 0.80168668]\n",
      " [ 0.32050936]]\n",
      "\n",
      "[[ 0.82096207]\n",
      " [ 0.26399957]]\n",
      "[[ 0.82096207]\n",
      " [ 0.26399957]]\n",
      "\n",
      "[[ 0.83615788]\n",
      " [ 0.22612712]]\n",
      "[[ 0.83615788]\n",
      " [ 0.22612712]]\n",
      "\n",
      "[[ 0.84844301]\n",
      " [ 0.19929715]]\n",
      "[[ 0.84844301]\n",
      " [ 0.19929715]]\n",
      "\n",
      "[[ 0.85859248]\n",
      " [ 0.17931499]]\n",
      "[[ 0.85859248]\n",
      " [ 0.17931499]]\n",
      "\n",
      "[[ 0.86713276]\n",
      " [ 0.16382193]]\n",
      "[[ 0.86713276]\n",
      " [ 0.16382193]]\n",
      "\n",
      "[[ 0.87443124]\n",
      " [ 0.15142117]]\n",
      "[[ 0.87443124]\n",
      " [ 0.15142117]]\n",
      "\n",
      "[[ 0.88075113]\n",
      " [ 0.14124055]]\n",
      "[[ 0.88075113]\n",
      " [ 0.14124055]]\n",
      "\n",
      "[[ 0.88628565]\n",
      " [ 0.13270935]]\n",
      "[[ 0.88628565]\n",
      " [ 0.13270935]]\n",
      "\n",
      "[[ 0.89117972]\n",
      " [ 0.12543883]]\n",
      "[[ 0.89117972]\n",
      " [ 0.12543883]]\n",
      "\n",
      "[[ 0.8955442 ]\n",
      " [ 0.11915503]]\n",
      "[[ 0.8955442 ]\n",
      " [ 0.11915503]]\n",
      "\n",
      "[[ 0.89946534]\n",
      " [ 0.11365922]]\n",
      "[[ 0.89946534]\n",
      " [ 0.11365922]]\n",
      "\n",
      "[[ 0.90301127]\n",
      " [ 0.1088036 ]]\n",
      "[[ 0.90301127]\n",
      " [ 0.1088036 ]]\n",
      "\n",
      "[[ 0.9062366 ]\n",
      " [ 0.10447588]]\n",
      "[[ 0.9062366 ]\n",
      " [ 0.10447588]]\n",
      "\n",
      "[[ 0.90918556]\n",
      " [ 0.10058913]]\n",
      "[[ 0.90918556]\n",
      " [ 0.10058913]]\n",
      "\n",
      "[[ 0.91189446]\n",
      " [ 0.09707494]]\n",
      "[[ 0.91189446]\n",
      " [ 0.09707494]]\n",
      "\n",
      "[[ 0.91439333]\n",
      " [ 0.09387868]]\n",
      "[[ 0.91439333]\n",
      " [ 0.09387868]]\n",
      "\n",
      "[[ 0.91670729]\n",
      " [ 0.0909562 ]]\n",
      "[[ 0.91670729]\n",
      " [ 0.0909562 ]]\n",
      "\n",
      "[[ 0.9188575 ]\n",
      " [ 0.08827134]]\n",
      "[[ 0.9188575 ]\n",
      " [ 0.08827134]]\n",
      "\n",
      "[[ 0.92086193]\n",
      " [ 0.08579423]]\n",
      "[[ 0.92086193]\n",
      " [ 0.08579423]]\n",
      "\n",
      "[[ 0.92273592]\n",
      " [ 0.08349993]]\n",
      "[[ 0.92273592]\n",
      " [ 0.08349993]]\n",
      "\n",
      "[[ 0.92449271]\n",
      " [ 0.08136748]]\n",
      "[[ 0.92449271]\n",
      " [ 0.08136748]]\n",
      "\n",
      "[[ 0.92614371]\n",
      " [ 0.07937906]]\n",
      "[[ 0.92614371]\n",
      " [ 0.07937906]]\n",
      "\n",
      "[[ 0.92769889]\n",
      " [ 0.07751948]]\n",
      "[[ 0.92769889]\n",
      " [ 0.07751948]]\n",
      "\n",
      "[[ 0.92916695]\n",
      " [ 0.07577567]]\n",
      "[[ 0.92916695]\n",
      " [ 0.07577567]]\n",
      "\n",
      "[[ 0.93055553]\n",
      " [ 0.07413633]]\n",
      "[[ 0.93055553]\n",
      " [ 0.07413633]]\n",
      "\n",
      "[[ 0.93187141]\n",
      " [ 0.07259161]]\n",
      "[[ 0.93187141]\n",
      " [ 0.07259161]]\n",
      "\n",
      "[[ 0.93312055]\n",
      " [ 0.07113293]]\n",
      "[[ 0.93312055]\n",
      " [ 0.07113293]]\n",
      "\n",
      "[[ 0.93430829]\n",
      " [ 0.06975274]]\n",
      "[[ 0.93430829]\n",
      " [ 0.06975274]]\n",
      "\n",
      "[[ 0.93543937]\n",
      " [ 0.06844436]]\n",
      "[[ 0.93543937]\n",
      " [ 0.06844436]]\n",
      "\n",
      "[[ 0.93651808]\n",
      " [ 0.06720189]]\n",
      "[[ 0.93651808]\n",
      " [ 0.06720189]]\n",
      "\n",
      "[[ 0.93754822]\n",
      " [ 0.06602008]]\n",
      "[[ 0.93754822]\n",
      " [ 0.06602008]]\n",
      "\n",
      "[[ 0.93853326]\n",
      " [ 0.06489423]]\n",
      "[[ 0.93853326]\n",
      " [ 0.06489423]]\n",
      "\n",
      "[[ 0.93947633]\n",
      " [ 0.06382015]]\n",
      "[[ 0.93947633]\n",
      " [ 0.06382015]]\n",
      "\n",
      "[[ 0.94038024]\n",
      " [ 0.06279406]]\n",
      "[[ 0.94038024]\n",
      " [ 0.06279406]]\n",
      "\n",
      "[[ 0.94124759]\n",
      " [ 0.06181254]]\n",
      "[[ 0.94124759]\n",
      " [ 0.06181254]]\n",
      "\n",
      "[[ 0.94208071]\n",
      " [ 0.06087252]]\n",
      "[[ 0.94208071]\n",
      " [ 0.06087252]]\n",
      "\n",
      "[[ 0.94288175]\n",
      " [ 0.05997121]]\n",
      "[[ 0.94288175]\n",
      " [ 0.05997121]]\n",
      "\n",
      "[[ 0.94365267]\n",
      " [ 0.05910607]]\n",
      "[[ 0.94365267]\n",
      " [ 0.05910607]]\n",
      "\n",
      "[[ 0.94439527]\n",
      " [ 0.05827479]]\n",
      "[[ 0.94439527]\n",
      " [ 0.05827479]]\n",
      "\n",
      "[[ 0.94511121]\n",
      " [ 0.05747524]]\n",
      "[[ 0.94511121]\n",
      " [ 0.05747524]]\n",
      "\n",
      "[[ 0.945802  ]\n",
      " [ 0.05670551]]\n",
      "[[ 0.945802  ]\n",
      " [ 0.05670551]]\n",
      "\n",
      "[[ 0.94646906]\n",
      " [ 0.0559638 ]]\n",
      "[[ 0.94646906]\n",
      " [ 0.0559638 ]]\n",
      "\n",
      "[[ 0.94711367]\n",
      " [ 0.0552485 ]]\n",
      "[[ 0.94711367]\n",
      " [ 0.0552485 ]]\n",
      "\n",
      "[[ 0.94773706]\n",
      " [ 0.0545581 ]]\n",
      "[[ 0.94773706]\n",
      " [ 0.0545581 ]]\n",
      "\n",
      "[[ 0.94834032]\n",
      " [ 0.0538912 ]]\n",
      "[[ 0.94834032]\n",
      " [ 0.0538912 ]]\n",
      "\n",
      "[[ 0.9489245 ]\n",
      " [ 0.05324654]]\n",
      "[[ 0.9489245 ]\n",
      " [ 0.05324654]]\n",
      "\n",
      "[[ 0.94949057]\n",
      " [ 0.05262292]]\n",
      "[[ 0.94949057]\n",
      " [ 0.05262292]]\n",
      "\n",
      "[[ 0.95003941]\n",
      " [ 0.05201924]]\n",
      "[[ 0.95003941]\n",
      " [ 0.05201924]]\n",
      "\n",
      "[[ 0.95057186]\n",
      " [ 0.05143449]]\n",
      "[[ 0.95057186]\n",
      " [ 0.05143449]]\n",
      "\n",
      "[[ 0.95108871]\n",
      " [ 0.0508677 ]]\n",
      "[[ 0.95108871]\n",
      " [ 0.0508677 ]]\n",
      "\n",
      "[[ 0.95159069]\n",
      " [ 0.050318  ]]\n",
      "[[ 0.95159069]\n",
      " [ 0.050318  ]]\n",
      "\n",
      "[[ 0.95207848]\n",
      " [ 0.04978455]]\n",
      "[[ 0.95207848]\n",
      " [ 0.04978455]]\n",
      "\n",
      "[[ 0.95255273]\n",
      " [ 0.04926659]]\n",
      "[[ 0.95255273]\n",
      " [ 0.04926659]]\n",
      "\n",
      "[[ 0.95301404]\n",
      " [ 0.0487634 ]]\n",
      "[[ 0.95301404]\n",
      " [ 0.0487634 ]]\n",
      "\n",
      "[[ 0.95346296]\n",
      " [ 0.04827429]]\n",
      "[[ 0.95346296]\n",
      " [ 0.04827429]]\n",
      "\n",
      "[[ 0.95390004]\n",
      " [ 0.04779863]]\n",
      "[[ 0.95390004]\n",
      " [ 0.04779863]]\n",
      "\n",
      "[[ 0.95432578]\n",
      " [ 0.04733583]]\n",
      "[[ 0.95432578]\n",
      " [ 0.04733583]]\n",
      "\n",
      "[[ 0.95474064]\n",
      " [ 0.04688534]]\n",
      "[[ 0.95474064]\n",
      " [ 0.04688534]]\n",
      "\n",
      "[[ 0.95514508]\n",
      " [ 0.04644661]]\n",
      "[[ 0.95514508]\n",
      " [ 0.04644661]]\n",
      "\n",
      "[[ 0.95553951]\n",
      " [ 0.04601916]]\n",
      "[[ 0.95553951]\n",
      " [ 0.04601916]]\n",
      "\n",
      "[[ 0.95592433]\n",
      " [ 0.04560253]]\n",
      "[[ 0.95592433]\n",
      " [ 0.04560253]]\n",
      "\n",
      "[[ 0.95629991]\n",
      " [ 0.04519627]]\n",
      "[[ 0.95629991]\n",
      " [ 0.04519627]]\n",
      "\n",
      "[[ 0.95666662]\n",
      " [ 0.04479996]]\n",
      "[[ 0.95666662]\n",
      " [ 0.04479996]]\n",
      "\n",
      "[[ 0.95702479]\n",
      " [ 0.04441321]]\n",
      "[[ 0.95702479]\n",
      " [ 0.04441321]]\n",
      "\n",
      "[[ 0.95737474]\n",
      " [ 0.04403566]]\n",
      "[[ 0.95737474]\n",
      " [ 0.04403566]]\n",
      "\n",
      "[[ 0.95771676]\n",
      " [ 0.04366694]]\n",
      "[[ 0.95771676]\n",
      " [ 0.04366694]]\n",
      "\n",
      "[[ 0.95805116]\n",
      " [ 0.04330673]]\n",
      "[[ 0.95805116]\n",
      " [ 0.04330673]]\n",
      "\n",
      "[[ 0.95837821]\n",
      " [ 0.04295471]]\n",
      "[[ 0.95837821]\n",
      " [ 0.04295471]]\n",
      "\n",
      "[[ 0.95869815]\n",
      " [ 0.04261057]]\n",
      "[[ 0.95869815]\n",
      " [ 0.04261057]]\n",
      "\n",
      "[[ 0.95901125]\n",
      " [ 0.04227404]]\n",
      "[[ 0.95901125]\n",
      " [ 0.04227404]]\n",
      "\n",
      "[[ 0.95931774]\n",
      " [ 0.04194485]]\n",
      "[[ 0.95931774]\n",
      " [ 0.04194485]]\n",
      "\n",
      "[[ 0.95961784]\n",
      " [ 0.04162272]]\n",
      "[[ 0.95961784]\n",
      " [ 0.04162272]]\n",
      "\n",
      "[[ 0.95991176]\n",
      " [ 0.04130743]]\n",
      "[[ 0.95991176]\n",
      " [ 0.04130743]]\n",
      "\n",
      "[[ 0.96019972]\n",
      " [ 0.04099873]]\n",
      "[[ 0.96019972]\n",
      " [ 0.04099873]]\n",
      "\n",
      "[[ 0.96048191]\n",
      " [ 0.0406964 ]]\n",
      "[[ 0.96048191]\n",
      " [ 0.0406964 ]]\n",
      "\n",
      "[[ 0.9607585 ]\n",
      " [ 0.04040024]]\n",
      "[[ 0.9607585 ]\n",
      " [ 0.04040024]]\n",
      "\n",
      "[[ 0.96102969]\n",
      " [ 0.04011003]]\n",
      "[[ 0.96102969]\n",
      " [ 0.04011003]]\n",
      "\n",
      "[[ 0.96129564]\n",
      " [ 0.03982558]]\n",
      "[[ 0.96129564]\n",
      " [ 0.03982558]]\n",
      "\n",
      "[[ 0.96155652]\n",
      " [ 0.03954672]]\n",
      "[[ 0.96155652]\n",
      " [ 0.03954672]]\n",
      "\n",
      "[[ 0.96181248]\n",
      " [ 0.03927325]]\n",
      "[[ 0.96181248]\n",
      " [ 0.03927325]]\n",
      "\n",
      "[[ 0.96206366]\n",
      " [ 0.03900502]]\n",
      "[[ 0.96206366]\n",
      " [ 0.03900502]]\n",
      "\n",
      "[[ 0.96231023]\n",
      " [ 0.03874186]]\n",
      "[[ 0.96231023]\n",
      " [ 0.03874186]]\n",
      "\n",
      "[[ 0.9625523 ]\n",
      " [ 0.03848362]]\n",
      "[[ 0.9625523 ]\n",
      " [ 0.03848362]]\n",
      "\n",
      "[[ 0.96279002]\n",
      " [ 0.03823014]]\n",
      "[[ 0.96279002]\n",
      " [ 0.03823014]]\n",
      "\n",
      "[[ 0.9630235 ]\n",
      " [ 0.03798129]]\n",
      "[[ 0.9630235 ]\n",
      " [ 0.03798129]]\n",
      "\n",
      "[[ 0.96325288]\n",
      " [ 0.03773692]]\n",
      "[[ 0.96325288]\n",
      " [ 0.03773692]]\n",
      "\n",
      "[[ 0.96347827]\n",
      " [ 0.03749692]]\n",
      "[[ 0.96347827]\n",
      " [ 0.03749692]]\n",
      "\n",
      "[[ 0.96369978]\n",
      " [ 0.03726115]]\n",
      "[[ 0.96369978]\n",
      " [ 0.03726115]]\n",
      "\n",
      "[[ 0.96391751]\n",
      " [ 0.03702948]]\n",
      "[[ 0.96391751]\n",
      " [ 0.03702948]]\n",
      "\n",
      "[[ 0.96413158]\n",
      " [ 0.03680182]]\n",
      "[[ 0.96413158]\n",
      " [ 0.03680182]]\n",
      "\n",
      "[[ 0.96434208]\n",
      " [ 0.03657803]]\n",
      "[[ 0.96434208]\n",
      " [ 0.03657803]]\n",
      "\n",
      "[[ 0.96454911]\n",
      " [ 0.03635802]]\n",
      "[[ 0.96454911]\n",
      " [ 0.03635802]]\n",
      "\n",
      "[[ 0.96475276]\n",
      " [ 0.03614169]]\n",
      "[[ 0.96475276]\n",
      " [ 0.03614169]]\n",
      "\n",
      "[[ 0.96495312]\n",
      " [ 0.03592893]]\n",
      "[[ 0.96495312]\n",
      " [ 0.03592893]]\n",
      "\n",
      "[[ 0.96515027]\n",
      " [ 0.03571965]]\n",
      "[[ 0.96515027]\n",
      " [ 0.03571965]]\n",
      "\n",
      "[[ 0.96534431]\n",
      " [ 0.03551375]]\n",
      "[[ 0.96534431]\n",
      " [ 0.03551375]]\n",
      "\n",
      "[[ 0.9655353 ]\n",
      " [ 0.03531115]]\n",
      "[[ 0.9655353 ]\n",
      " [ 0.03531115]]\n",
      "\n",
      "[[ 0.96572333]\n",
      " [ 0.03511177]]\n",
      "[[ 0.96572333]\n",
      " [ 0.03511177]]\n",
      "\n"
     ]
    }
   ],
   "source": [
    "net1 = Network()\n",
    "net1.add_layer(Layer(4, 5, Sigmoid_cls())) # Hidden layer\n",
    "net1.add_layer(Layer(5, 2, Sigmoid_cls())) # Output layer\n",
    "\n",
    "x = np.array([1,2,3,4]).reshape(4,1)\n",
    "y = np.array([1,0]).reshape(2,1)\n",
    "\n",
    "for i in range(100):\n",
    "    g_b, g_w = net1.backprop(x,y)\n",
    "    for j in range(len(net1.layers)):\n",
    "        layer = net1.layers[j]\n",
    "        layer.weights -= g_w[j]\n",
    "        layer.bias -= g_b[j]"
   ]
  },
  {
   "cell_type": "code",
   "execution_count": 137,
   "metadata": {},
   "outputs": [
    {
     "name": "stdout",
     "output_type": "stream",
     "text": [
      "2\n"
     ]
    }
   ],
   "source": [
    "for x in range(2,3):\n",
    "    print x"
   ]
  },
  {
   "cell_type": "code",
   "execution_count": 110,
   "metadata": {},
   "outputs": [
    {
     "data": {
      "text/plain": [
       "4"
      ]
     },
     "execution_count": 110,
     "metadata": {},
     "output_type": "execute_result"
    },
    {
     "data": {
      "text/plain": [
       "5"
      ]
     },
     "execution_count": 110,
     "metadata": {},
     "output_type": "execute_result"
    }
   ],
   "source": [
    "a = [1,2,3,4,5]\n",
    "\n",
    "b=2\n",
    "a[-b] # a[-2] = 4\n",
    "a[-b+1] # a[-2+1] = a[-1] = 5"
   ]
  },
  {
   "cell_type": "code",
   "execution_count": null,
   "metadata": {},
   "outputs": [],
   "source": []
  }
 ],
 "metadata": {
  "kernelspec": {
   "display_name": "Python 2",
   "language": "python",
   "name": "python2"
  },
  "language_info": {
   "codemirror_mode": {
    "name": "ipython",
    "version": 2
   },
   "file_extension": ".py",
   "mimetype": "text/x-python",
   "name": "python",
   "nbconvert_exporter": "python",
   "pygments_lexer": "ipython2",
   "version": "2.7.10"
  }
 },
 "nbformat": 4,
 "nbformat_minor": 2
}
