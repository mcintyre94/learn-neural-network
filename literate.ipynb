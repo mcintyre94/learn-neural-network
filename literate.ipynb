{
 "cells": [
  {
   "cell_type": "code",
   "execution_count": 12,
   "metadata": {},
   "outputs": [],
   "source": [
    "from IPython.core.interactiveshell import InteractiveShell\n",
    "InteractiveShell.ast_node_interactivity = \"all\" # Allow printing multiple outputs from each cell"
   ]
  },
  {
   "cell_type": "code",
   "execution_count": 130,
   "metadata": {},
   "outputs": [],
   "source": [
    "# Dependency for the computations\n",
    "import numpy as np\n",
    "\n",
    "# Dependency only for the charts\n",
    "import matplotlib.pyplot as plt\n",
    "import seaborn as sns # Make matplotlib charts look better\n",
    "sns.set(style='ticks')\n",
    "\n",
    "# Dependency only for adding methods to classes dynamically in jupyter (Jupyter Dynamic Classes)\n",
    "# See https://github.com/jupyter/notebook/issues/1243 and https://alexhagen.github.io/jdc/\n",
    "import jdc"
   ]
  },
  {
   "cell_type": "code",
   "execution_count": 18,
   "metadata": {},
   "outputs": [],
   "source": [
    "%matplotlib inline"
   ]
  },
  {
   "cell_type": "markdown",
   "metadata": {},
   "source": [
    "A literate programming notebook written as I follow http://neuralnetworksanddeeplearning.com/chap1.html (as recommended in fast.ai course lesson 2 notes)\n",
    "\n",
    "This is basically a 'My First Neural Network' notebook with (hopefully) copious documentation, built to learn NumPy and solidify the concepts for me before going back to using the higher-level libraries such as Keras/TensorFlow. It won't use GPU, and it isn't optimised for performance. It's just about checking I understand the concepts fully, and to explore the NumPy APIs.\n",
    "\n",
    "The end goal (based on the chapter 1 content) is to build an entry for the Kaggle MNIST competition, using a neural network, written from scratch - and for that neural network to be general enough for other problems. "
   ]
  },
  {
   "cell_type": "markdown",
   "metadata": {},
   "source": [
    "# Perceptrons\n",
    "\n",
    "A perceptron takes any number of binary inputs $x_0, x_1,..., x_n$ and outputs a single binary value. First we compute $\\sum_j x_j w_j$, where each $w_j \\in \\mathbb{R}$ is a weight (and there are equal numbers of inputs $x_i$ and weights $w_i$). This is the dot product of the two vectors, $\\mathbf{x} \\cdot \\mathbf{w}$, which we can compute using the `np.dot` method."
   ]
  },
  {
   "cell_type": "code",
   "execution_count": 13,
   "metadata": {},
   "outputs": [
    {
     "name": "stdout",
     "output_type": "stream",
     "text": [
      "7\n"
     ]
    }
   ],
   "source": [
    "x = [0, 0, 1, 1, 0] # 5 binary inputs\n",
    "w = [1, 2, 3, 4, 1] # 5 real-valued weights\n",
    "\n",
    "dot = np.dot(x, w)\n",
    "print(dot)"
   ]
  },
  {
   "cell_type": "markdown",
   "metadata": {},
   "source": [
    "So for a perceptron we see that because of the binary-valued inputs, the output of $\\mathbf{x} \\cdot \\mathbf{w}$ is simply the sum of weights $w_j$ where $x_j = 1$. \n",
    "\n",
    "As mentioned, the output of a perceptron is in fact binary-valued, and this is done using a threshold: If $\\mathbf{x} \\cdot \\mathbf{w} \\le threshold$ then the perceptron outputs 0, otherwise it outputs 1. \n",
    "\n",
    "We replace the treshold with bias $-b = threshold$, and move it to the other side of the inequality, such that we have: If $\\mathbf{x} \\cdot \\mathbf{w} + b \\le 0$ then the perceptron outputs 0, otherwise it outputs 1. \n",
    "\n",
    "So we could fully capture a perceptron's behaviour with a simple method:"
   ]
  },
  {
   "cell_type": "code",
   "execution_count": 132,
   "metadata": {},
   "outputs": [
    {
     "data": {
      "text/plain": [
       "1"
      ]
     },
     "execution_count": 132,
     "metadata": {},
     "output_type": "execute_result"
    },
    {
     "data": {
      "text/plain": [
       "0"
      ]
     },
     "execution_count": 132,
     "metadata": {},
     "output_type": "execute_result"
    }
   ],
   "source": [
    "def perceptron(x, w, bias):\n",
    "    if np.dot(x, w) + bias <= 0:\n",
    "        return 0\n",
    "    else: \n",
    "        return 1\n",
    "\n",
    "# For example, using our x and w from before\n",
    "x = [0, 0, 1, 1, 0] \n",
    "w = [1, 2, 3, 4, 1] \n",
    "perceptron(x, w, bias=7)\n",
    "perceptron(x, w, bias=-10)"
   ]
  },
  {
   "cell_type": "code",
   "execution_count": 133,
   "metadata": {},
   "outputs": [
    {
     "data": {
      "text/plain": [
       "1"
      ]
     },
     "execution_count": 133,
     "metadata": {},
     "output_type": "execute_result"
    },
    {
     "data": {
      "text/plain": [
       "1"
      ]
     },
     "execution_count": 133,
     "metadata": {},
     "output_type": "execute_result"
    },
    {
     "data": {
      "text/plain": [
       "1"
      ]
     },
     "execution_count": 133,
     "metadata": {},
     "output_type": "execute_result"
    },
    {
     "data": {
      "text/plain": [
       "0"
      ]
     },
     "execution_count": 133,
     "metadata": {},
     "output_type": "execute_result"
    }
   ],
   "source": [
    "# From the book, using the perceptron to implement NAND \n",
    "w = [-2, -2]\n",
    "bias = 3\n",
    "\n",
    "for x1, x2 in [(0,0), (0,1), (1,0), (1,1)]:\n",
    "    perceptron([x1,x2], w, bias)"
   ]
  },
  {
   "cell_type": "markdown",
   "metadata": {},
   "source": [
    "We can in fact use a perceptron to learn any linearly separable function, including NAND. To show this, let's consider how a perceptron learns. \n",
    "\n",
    "We start with randomly initialised weights and bias terms. We also pass in training data, in tuples of (input, output) ie (x, y). For a binary function this is ((x1, x2), y).\n",
    "\n",
    "Then for each **epoch** (ie the number of times we want to learn), we take each training example, and using its input and our current weights we compute the current value of the perceptron on that input. We find the difference between the expected output `y` and the current output, the error term. Note that this must be computed `y - output` - the order matters. The error term will either be 0, 1 or -1. \n",
    "\n",
    "We adjust the weights in each position $w_i$ by $w_i += \\eta * error * x_i$ ($\\eta$, eta is just a learning rate that we can tweak - it changes how quickly the weights change for wrong examples.) We adjust the bias by $\\eta * error$, since it's not linked to any weight directly. \n",
    "\n",
    "Assuming the input training data is linearly separable this algorithm will converge to 100% accuracy in a finite number of epochs. \n",
    "\n",
    "\n",
    "To demonstrate this, we'll define a function to train a perceptron - and demonstrate it on the NAND case. "
   ]
  },
  {
   "cell_type": "code",
   "execution_count": 134,
   "metadata": {},
   "outputs": [],
   "source": [
    "def train_perceptron(training_data, epochs=30, eta=1):\n",
    "    x_len = len(training_data[0][0]) # Tuples of ((xs...), y) - want len xs\n",
    "\n",
    "    w = np.random.rand(x_len) # Random starting weights equal length to x_len, 0-1\n",
    "    bias = np.random.rand() # Random starting bias, 0-1\n",
    "\n",
    "    errors = {} # Count errors at each epoch\n",
    "\n",
    "    for i in range(epochs):\n",
    "        errors[i] = 0\n",
    "        for x, y in training_data:\n",
    "            output = perceptron(x, w, bias)\n",
    "            error = y - output\n",
    "            if error != 0:\n",
    "                errors[i]+=1\n",
    "\n",
    "            w[0] += eta * error * x[0]\n",
    "            w[1] += eta * error * x[1]\n",
    "            bias += eta * error\n",
    "    \n",
    "    return w, bias, errors\n",
    "\n",
    "\n",
    "training_data = [((0,0), 1), ((0, 1), 1), ((1,0), 1), ((1,1), 0)] # Tuples of ((x1,x2), x1 NAND x2)\n",
    "\n",
    "w, b, errors = train_perceptron(training_data)"
   ]
  },
  {
   "cell_type": "code",
   "execution_count": 91,
   "metadata": {},
   "outputs": [
    {
     "data": {
      "text/plain": [
       "<matplotlib.figure.Figure at 0x1104710f0>"
      ]
     },
     "execution_count": 91,
     "metadata": {},
     "output_type": "execute_result"
    },
    {
     "data": {
      "text/plain": [
       "Text(0.5,0,'epoch')"
      ]
     },
     "execution_count": 91,
     "metadata": {},
     "output_type": "execute_result"
    },
    {
     "data": {
      "text/plain": [
       "Text(0,0.5,'errors')"
      ]
     },
     "execution_count": 91,
     "metadata": {},
     "output_type": "execute_result"
    },
    {
     "data": {
      "text/plain": [
       "Text(0.5,1,'Errors at each epoch')"
      ]
     },
     "execution_count": 91,
     "metadata": {},
     "output_type": "execute_result"
    },
    {
     "data": {
      "text/plain": [
       "[<matplotlib.lines.Line2D at 0x11029b748>]"
      ]
     },
     "execution_count": 91,
     "metadata": {},
     "output_type": "execute_result"
    },
    {
     "data": {
      "image/png": "[encoded data removed]",
      "text/plain": [
       "<matplotlib.figure.Figure at 0x1104710f0>"
      ]
     },
     "metadata": {},
     "output_type": "display_data"
    }
   ],
   "source": [
    "plt.figure()\n",
    "xs = errors.keys()\n",
    "ys = errors.values()\n",
    "plt.xlabel('epoch')\n",
    "plt.ylabel('errors')\n",
    "plt.title('Errors at each epoch')\n",
    "plt.plot(xs, ys)"
   ]
  },
  {
   "cell_type": "code",
   "execution_count": 218,
   "metadata": {},
   "outputs": [
    {
     "data": {
      "text/plain": [
       "(-1, 1)"
      ]
     },
     "execution_count": 218,
     "metadata": {},
     "output_type": "execute_result"
    },
    {
     "data": {
      "text/plain": [
       "(-1, 1)"
      ]
     },
     "execution_count": 218,
     "metadata": {},
     "output_type": "execute_result"
    },
    {
     "data": {
      "text/plain": [
       "Text(0.5,1,'Separation boundary found')"
      ]
     },
     "execution_count": 218,
     "metadata": {},
     "output_type": "execute_result"
    },
    {
     "data": {
      "text/plain": [
       "[<matplotlib.lines.Line2D at 0x1110e24e0>]"
      ]
     },
     "execution_count": 218,
     "metadata": {},
     "output_type": "execute_result"
    },
    {
     "data": {
      "image/png": "[encoded data removed]",
      "text/plain": [
       "<matplotlib.figure.Figure at 0x111024240>"
      ]
     },
     "metadata": {},
     "output_type": "display_data"
    }
   ],
   "source": [
    "x_intersect = [0,-bias/w[1]]\n",
    "y_intersect = [-bias/w[0],0]\n",
    "plt.xlim([-1,1])\n",
    "plt.ylim([-1,1])\n",
    "plt.title('Separation boundary found')\n",
    "plt.plot(x_intersect, y_intersect)"
   ]
  },
  {
   "cell_type": "markdown",
   "metadata": {},
   "source": [
    "We can see the effect of using a smaller eta variable on the same training data:"
   ]
  },
  {
   "cell_type": "code",
   "execution_count": 94,
   "metadata": {},
   "outputs": [
    {
     "data": {
      "text/plain": [
       "<matplotlib.figure.Figure at 0x11050bf28>"
      ]
     },
     "execution_count": 94,
     "metadata": {},
     "output_type": "execute_result"
    },
    {
     "data": {
      "text/plain": [
       "Text(0.5,0,'epoch')"
      ]
     },
     "execution_count": 94,
     "metadata": {},
     "output_type": "execute_result"
    },
    {
     "data": {
      "text/plain": [
       "Text(0,0.5,'errors')"
      ]
     },
     "execution_count": 94,
     "metadata": {},
     "output_type": "execute_result"
    },
    {
     "data": {
      "text/plain": [
       "Text(0.5,1,'Errors at each epoch')"
      ]
     },
     "execution_count": 94,
     "metadata": {},
     "output_type": "execute_result"
    },
    {
     "data": {
      "text/plain": [
       "[<matplotlib.lines.Line2D at 0x11064ba58>]"
      ]
     },
     "execution_count": 94,
     "metadata": {},
     "output_type": "execute_result"
    },
    {
     "data": {
      "image/png": "[encoded data removed]",
      "text/plain": [
       "<matplotlib.figure.Figure at 0x11050bf28>"
      ]
     },
     "metadata": {},
     "output_type": "display_data"
    }
   ],
   "source": [
    "w, b, errors = train_perceptron(training_data, eta=0.05)\n",
    "\n",
    "plt.figure()\n",
    "xs = errors.keys()\n",
    "ys = errors.values()\n",
    "plt.xlabel('epoch')\n",
    "plt.ylabel('errors')\n",
    "plt.title('Errors at each epoch')\n",
    "plt.plot(xs, ys)"
   ]
  },
  {
   "cell_type": "markdown",
   "metadata": {},
   "source": [
    "Perceptrons have some limitations:\n",
    "\n",
    "- They only converge for linearly separable problems, which most interesting problems are not\n",
    "- Because they use a step function, we can't make small tweaks to their output - it's either 0 or 1\n",
    "\n",
    "The way we deal with the first issue will be by building networks of neurons, where the output of one layer can be inputs to the next layer. This allows us to solve complex problems (or, mathematically - can approximate to an arbitrary accuracy any function). However this exasperates our second problem - without being able to tweak our perceptrons in a predictable way we're not going to be able to create a trainable network of them. \n",
    "\n",
    "For this reason, we change the non-linearity, that is the **activation function**. Our computed $\\mathbf{x} \\cdot \\mathbf{w} + b$ doesn't need to change, but instead of using the inequality with 0, we pass this value to a different function."
   ]
  },
  {
   "cell_type": "markdown",
   "metadata": {},
   "source": [
    "# Sigmoid neurons\n",
    "\n",
    "The sigmoid neuron uses the activation function $\\sigma(z) = \\frac{1}{1+e^-z}$, where z is our computed $\\mathbf{x} \\cdot \\mathbf{w} + b$. Before we code this, we can examine its shape:"
   ]
  },
  {
   "cell_type": "code",
   "execution_count": 124,
   "metadata": {},
   "outputs": [],
   "source": [
    "def sigmoid_fn(x):\n",
    "    return 1/(1+np.exp(-x))"
   ]
  },
  {
   "cell_type": "code",
   "execution_count": 125,
   "metadata": {},
   "outputs": [
    {
     "data": {
      "text/plain": [
       "Text(0.5,1,'Sigmoid')"
      ]
     },
     "execution_count": 125,
     "metadata": {},
     "output_type": "execute_result"
    },
    {
     "data": {
      "text/plain": [
       "[<matplotlib.lines.Line2D at 0x110add5f8>]"
      ]
     },
     "execution_count": 125,
     "metadata": {},
     "output_type": "execute_result"
    },
    {
     "data": {
      "image/png": "[encoded data removed]",
      "text/plain": [
       "<matplotlib.figure.Figure at 0x110addb00>"
      ]
     },
     "metadata": {},
     "output_type": "display_data"
    }
   ],
   "source": [
    "xs = np.linspace(-5,5,100) # 100 evenly spaced values between -5 and 5\n",
    "ys = sigmoid_fn(xs)\n",
    "\n",
    "plt.title('Sigmoid')\n",
    "plt.plot(xs, ys)"
   ]
  },
  {
   "cell_type": "code",
   "execution_count": 110,
   "metadata": {},
   "outputs": [
    {
     "data": {
      "text/plain": [
       "Text(0.5,1,'Step function')"
      ]
     },
     "execution_count": 110,
     "metadata": {},
     "output_type": "execute_result"
    },
    {
     "data": {
      "text/plain": [
       "[<matplotlib.lines.Line2D at 0x110997978>]"
      ]
     },
     "execution_count": 110,
     "metadata": {},
     "output_type": "execute_result"
    },
    {
     "data": {
      "image/png": "[encoded data removed]",
      "text/plain": [
       "<matplotlib.figure.Figure at 0x110a1a4e0>"
      ]
     },
     "metadata": {},
     "output_type": "display_data"
    }
   ],
   "source": [
    "# Compare this to the step function:\n",
    "\n",
    "def step(x):\n",
    "    return 1 if x>0 else 0\n",
    "\n",
    "xs = np.linspace(-5,5,100) # 100 evenly spaced values between -5 and 5\n",
    "ys = [step(x) for x in xs]\n",
    "\n",
    "plt.title('Step function')\n",
    "plt.plot(xs, ys)"
   ]
  },
  {
   "cell_type": "markdown",
   "metadata": {},
   "source": [
    "We can see that the sigmoid is a smoothed step function, maintaining the bounds of 0 and 1, but changing by only a small amount each time its input changes. This is the only difference between the sigmoid and perceptron, but it turns out to be significant. "
   ]
  },
  {
   "cell_type": "markdown",
   "metadata": {},
   "source": [
    "At this point it makes sense to generalise our code to define a neuron, with a view to eventually building up a neural network - that is, a network of layers of neurons. So let's define a neuron:"
   ]
  },
  {
   "cell_type": "code",
   "execution_count": 157,
   "metadata": {},
   "outputs": [],
   "source": [
    "class Neuron:\n",
    "    def __init__(self, num_inputs, activation_function):\n",
    "        # We always initialise a neuron with random weights and bias\n",
    "        # We must pass an activation function, as this is different for each type of neuron\n",
    "        self.weights = np.random.rand(num_inputs)\n",
    "        self.bias = np.random.rand()\n",
    "        self.num_inputs = num_inputs # This will let us generalise updates\n",
    "        self.activation_function = activation_function\n",
    "        \n",
    "    def _compute_value(self, xs):\n",
    "        # Compute the value of the neuron for the given inputs\n",
    "        return np.dot(xs, self.weights) + self.bias\n",
    "    \n",
    "    def get_value(self, xs):\n",
    "        return self.activation_function(self._compute_value(xs))"
   ]
  },
  {
   "cell_type": "markdown",
   "metadata": {},
   "source": [
    "Essentially, a neuron knows how to compute its value from its weights and bias term, and it has an activation function, which takes such a value and computes the desired output for the neuron. "
   ]
  },
  {
   "cell_type": "code",
   "execution_count": 126,
   "metadata": {},
   "outputs": [
    {
     "data": {
      "text/plain": [
       "1"
      ]
     },
     "execution_count": 126,
     "metadata": {},
     "output_type": "execute_result"
    },
    {
     "data": {
      "text/plain": [
       "0.64448315602197881"
      ]
     },
     "execution_count": 126,
     "metadata": {},
     "output_type": "execute_result"
    }
   ],
   "source": [
    "# So a perceptron is simply:\n",
    "perceptron = Neuron(2, activation_function = step)\n",
    "perceptron.get_value([0,0])\n",
    "\n",
    "# And a sigmoid is simply:\n",
    "sigmoid = Neuron(2, activation_function = sigmoid_fn)\n",
    "sigmoid.get_value([0,0])"
   ]
  },
  {
   "cell_type": "markdown",
   "metadata": {},
   "source": [
    "Now we can re-implement our learning method using the generic neuron (and thus supporting any given activation function)"
   ]
  },
  {
   "cell_type": "code",
   "execution_count": 206,
   "metadata": {},
   "outputs": [],
   "source": [
    "%%add_to Neuron\n",
    "def train(self, training_data):\n",
    "    errors = {}\n",
    "\n",
    "    for i in range(epochs):\n",
    "        errors[i] = 0\n",
    "        for X, y in training_data:\n",
    "            output = self.get_value(X)\n",
    "            error = y - output\n",
    "            if np.absolute(error) > 0.5:\n",
    "                errors[i]+=1\n",
    "\n",
    "            # Update each weight in turn, and the bias\n",
    "            for j in range(self.num_inputs):\n",
    "                self.weights[j] += eta * error * X[j]\n",
    "            self.bias += eta * error\n",
    "    \n",
    "    return errors"
   ]
  },
  {
   "cell_type": "code",
   "execution_count": 213,
   "metadata": {},
   "outputs": [],
   "source": [
    "sigmoid = Neuron(2, activation_function = step) # Make sure we re-create the neuron to get the new method included\n",
    "errors = sigmoid.train(training_data)"
   ]
  },
  {
   "cell_type": "code",
   "execution_count": 214,
   "metadata": {},
   "outputs": [
    {
     "data": {
      "text/plain": [
       "(-1, 1)"
      ]
     },
     "execution_count": 214,
     "metadata": {},
     "output_type": "execute_result"
    },
    {
     "data": {
      "text/plain": [
       "(-1, 1)"
      ]
     },
     "execution_count": 214,
     "metadata": {},
     "output_type": "execute_result"
    },
    {
     "data": {
      "text/plain": [
       "Text(0.5,1,'Separation boundary found')"
      ]
     },
     "execution_count": 214,
     "metadata": {},
     "output_type": "execute_result"
    },
    {
     "data": {
      "text/plain": [
       "[<matplotlib.lines.Line2D at 0x110f66198>]"
      ]
     },
     "execution_count": 214,
     "metadata": {},
     "output_type": "execute_result"
    },
    {
     "data": {
      "image/png": "[encoded data removed]",
      "text/plain": [
       "<matplotlib.figure.Figure at 0x110e2c828>"
      ]
     },
     "metadata": {},
     "output_type": "display_data"
    }
   ],
   "source": [
    "x_intersect = [0,-sigmoid.bias/sigmoid.weights[1]]\n",
    "y_intersect = [-sigmoid.bias/sigmoid.weights[0],0]\n",
    "plt.xlim([-1,1])\n",
    "plt.ylim([-1,1])\n",
    "plt.title('Separation boundary found')\n",
    "plt.plot(x_intersect, y_intersect)"
   ]
  },
  {
   "cell_type": "code",
   "execution_count": 217,
   "metadata": {},
   "outputs": [
    {
     "data": {
      "text/plain": [
       "<matplotlib.figure.Figure at 0x110cc8780>"
      ]
     },
     "execution_count": 217,
     "metadata": {},
     "output_type": "execute_result"
    },
    {
     "data": {
      "text/plain": [
       "Text(0.5,0,'epoch')"
      ]
     },
     "execution_count": 217,
     "metadata": {},
     "output_type": "execute_result"
    },
    {
     "data": {
      "text/plain": [
       "Text(0,0.5,'errors')"
      ]
     },
     "execution_count": 217,
     "metadata": {},
     "output_type": "execute_result"
    },
    {
     "data": {
      "text/plain": [
       "Text(0.5,1,'Errors at each epoch')"
      ]
     },
     "execution_count": 217,
     "metadata": {},
     "output_type": "execute_result"
    },
    {
     "data": {
      "text/plain": [
       "[<matplotlib.lines.Line2D at 0x111014668>]"
      ]
     },
     "execution_count": 217,
     "metadata": {},
     "output_type": "execute_result"
    },
    {
     "data": {
      "image/png": "[encoded data removed]",
      "text/plain": [
       "<matplotlib.figure.Figure at 0x110cc8780>"
      ]
     },
     "metadata": {},
     "output_type": "display_data"
    }
   ],
   "source": [
    "plt.figure()\n",
    "xs = errors.keys()\n",
    "ys = errors.values()\n",
    "plt.xlabel('epoch')\n",
    "plt.ylabel('errors')\n",
    "plt.title('Errors at each epoch')\n",
    "plt.plot(xs, ys)"
   ]
  },
  {
   "cell_type": "code",
   "execution_count": null,
   "metadata": {},
   "outputs": [],
   "source": []
  }
 ],
 "metadata": {
  "kernelspec": {
   "display_name": "Python 3",
   "language": "python",
   "name": "python3"
  },
  "language_info": {
   "codemirror_mode": {
    "name": "ipython",
    "version": 3
   },
   "file_extension": ".py",
   "mimetype": "text/x-python",
   "name": "python",
   "nbconvert_exporter": "python",
   "pygments_lexer": "ipython3",
   "version": "3.5.1"
  }
 },
 "nbformat": 4,
 "nbformat_minor": 2
}
