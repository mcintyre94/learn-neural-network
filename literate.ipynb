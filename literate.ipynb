{
 "cells": [
  {
   "cell_type": "code",
   "execution_count": 40,
   "metadata": {
    "slideshow": {
     "slide_type": "subslide"
    }
   },
   "outputs": [],
   "source": [
    "from __future__ import division\n",
    "\n",
    "from IPython.core.interactiveshell import InteractiveShell\n",
    "InteractiveShell.ast_node_interactivity = \"all\" # Allow printing multiple outputs from each cell"
   ]
  },
  {
   "cell_type": "code",
   "execution_count": 2,
   "metadata": {
    "slideshow": {
     "slide_type": "subslide"
    }
   },
   "outputs": [],
   "source": [
    "# Dependency for the computations\n",
    "import numpy as np\n",
    "\n",
    "# Dependency only for the charts\n",
    "import matplotlib.pyplot as plt\n",
    "import seaborn as sns # Make matplotlib charts look better\n",
    "sns.set(style='ticks')\n",
    "\n",
    "# Dependency only for adding methods to classes dynamically in jupyter (Jupyter Dynamic Classes)\n",
    "# See https://github.com/jupyter/notebook/issues/1243 and https://alexhagen.github.io/jdc/\n",
    "import jdc"
   ]
  },
  {
   "cell_type": "code",
   "execution_count": 3,
   "metadata": {},
   "outputs": [],
   "source": [
    "%matplotlib inline"
   ]
  },
  {
   "cell_type": "markdown",
   "metadata": {},
   "source": [
    "A literate programming notebook written as I follow http://neuralnetworksanddeeplearning.com/chap1.html (as recommended in fast.ai course lesson 2 notes)\n",
    "\n",
    "This is basically a 'My First Neural Network' notebook with (hopefully) copious documentation, built to learn NumPy and solidify the concepts for me before going back to using the higher-level libraries such as Keras/TensorFlow. It won't use GPU, and it isn't optimised for performance. It's just about checking I understand the concepts fully, and to explore the NumPy APIs.\n",
    "\n",
    "The end goal (based on the chapter 1 content) is to build an entry for the Kaggle MNIST competition, using a neural network, written from scratch - and for that neural network to be general enough for other problems. "
   ]
  },
  {
   "cell_type": "markdown",
   "metadata": {},
   "source": [
    "# Perceptrons\n",
    "\n",
    "A perceptron takes any number of binary inputs $x_0, x_1,..., x_n$ and outputs a single binary value. First we compute $\\sum_j x_j w_j$, where each $w_j \\in \\mathbb{R}$ is a weight (and there are equal numbers of inputs $x_i$ and weights $w_i$). This is the dot product of the two vectors, $\\mathbf{x} \\cdot \\mathbf{w}$, which we can compute using the `np.dot` method."
   ]
  },
  {
   "cell_type": "code",
   "execution_count": 4,
   "metadata": {},
   "outputs": [
    {
     "name": "stdout",
     "output_type": "stream",
     "text": [
      "7\n"
     ]
    }
   ],
   "source": [
    "x = [0, 0, 1, 1, 0] # 5 binary inputs\n",
    "w = [1, 2, 3, 4, 1] # 5 real-valued weights\n",
    "\n",
    "dot = np.dot(x, w)\n",
    "print(dot)"
   ]
  },
  {
   "cell_type": "markdown",
   "metadata": {},
   "source": [
    "So for a perceptron we see that because of the binary-valued inputs, the output of $\\mathbf{x} \\cdot \\mathbf{w}$ is simply the sum of weights $w_j$ where $x_j = 1$. \n",
    "\n",
    "As mentioned, the output of a perceptron is in fact binary-valued, and this is done using a threshold: If $\\mathbf{x} \\cdot \\mathbf{w} \\le threshold$ then the perceptron outputs 0, otherwise it outputs 1. \n",
    "\n",
    "We replace the threshold with bias $-b = threshold$, and move it to the other side of the inequality, such that we have: If $\\mathbf{x} \\cdot \\mathbf{w} + b \\le 0$ then the perceptron outputs 0, otherwise it outputs 1. \n",
    "\n",
    "So we could fully capture a perceptron's behaviour with a simple method:"
   ]
  },
  {
   "cell_type": "code",
   "execution_count": 5,
   "metadata": {},
   "outputs": [
    {
     "data": {
      "text/plain": [
       "1"
      ]
     },
     "execution_count": 5,
     "metadata": {},
     "output_type": "execute_result"
    },
    {
     "data": {
      "text/plain": [
       "0"
      ]
     },
     "execution_count": 5,
     "metadata": {},
     "output_type": "execute_result"
    }
   ],
   "source": [
    "def perceptron(x, w, bias):\n",
    "    if np.dot(x, w) + bias <= 0:\n",
    "        return 0\n",
    "    else: \n",
    "        return 1\n",
    "\n",
    "# For example, using our x and w from before\n",
    "x = [0, 0, 1, 1, 0] \n",
    "w = [1, 2, 3, 4, 1] \n",
    "perceptron(x, w, bias=2)\n",
    "perceptron(x, w, bias=-10)"
   ]
  },
  {
   "cell_type": "code",
   "execution_count": 6,
   "metadata": {},
   "outputs": [
    {
     "data": {
      "text/plain": [
       "1"
      ]
     },
     "execution_count": 6,
     "metadata": {},
     "output_type": "execute_result"
    },
    {
     "data": {
      "text/plain": [
       "1"
      ]
     },
     "execution_count": 6,
     "metadata": {},
     "output_type": "execute_result"
    },
    {
     "data": {
      "text/plain": [
       "1"
      ]
     },
     "execution_count": 6,
     "metadata": {},
     "output_type": "execute_result"
    },
    {
     "data": {
      "text/plain": [
       "0"
      ]
     },
     "execution_count": 6,
     "metadata": {},
     "output_type": "execute_result"
    }
   ],
   "source": [
    "# From the book, using the perceptron to implement NAND \n",
    "w = [-2, -2]\n",
    "bias = 3\n",
    "\n",
    "for x1, x2 in [(0,0), (0,1), (1,0), (1,1)]:\n",
    "    perceptron([x1,x2], w, bias)"
   ]
  },
  {
   "cell_type": "markdown",
   "metadata": {},
   "source": [
    "We can in fact use a perceptron to learn any linearly separable function, including NAND. To show this, let's consider how a perceptron learns. \n",
    "\n",
    "We start with randomly initialised weights and bias terms. We also pass in training data, in tuples of (input, output) ie (x, y). For a binary function this is ((x1, x2), y).\n",
    "\n",
    "Then for each **epoch** (ie the number of times we want to learn), we take each training example, and using its input and our current weights we compute the current value of the perceptron on that input. We find the difference between the expected output `y` and the current output, the error term. Note that this must be computed `y - output` - the order matters. The error term will either be 0, 1 or -1. \n",
    "\n",
    "We adjust the weights in each position $w_i$ by $w_i += \\eta * error * x_i$ ($\\eta$, eta is just a learning rate that we can tweak - it changes how quickly the weights change for wrong examples.) We adjust the bias by $\\eta * error$, since it's not linked to any input directly. \n",
    "\n",
    "Assuming the input training data is linearly separable this algorithm will converge to 100% accuracy in a finite number of epochs. \n",
    "\n",
    "\n",
    "To demonstrate this, we'll define a function to train a perceptron - and demonstrate it on the NAND case. "
   ]
  },
  {
   "cell_type": "code",
   "execution_count": 7,
   "metadata": {},
   "outputs": [],
   "source": [
    "def train_perceptron(training_data, epochs=30, eta=1):\n",
    "    x_len = len(training_data[0][0]) # Tuples of ((xs...), y) - want len xs\n",
    "\n",
    "    w = np.random.rand(x_len) # Random starting weights equal length to x_len, 0-1\n",
    "    bias = np.random.rand() # Random starting bias, 0-1\n",
    "\n",
    "    errors = {} # Count errors at each epoch\n",
    "\n",
    "    for i in range(epochs):\n",
    "        errors[i] = 0\n",
    "        for x, y in training_data:\n",
    "            output = perceptron(x, w, bias)\n",
    "            error = y - output\n",
    "            if error != 0:\n",
    "                errors[i]+=1\n",
    "\n",
    "            w[0] += eta * error * x[0]\n",
    "            w[1] += eta * error * x[1]\n",
    "            bias += eta * error\n",
    "    \n",
    "    return w, bias, errors\n",
    "\n",
    "\n",
    "training_data = [((0,0), 1), ((0, 1), 1), ((1,0), 1), ((1,1), 0)] # Tuples of ((x1,x2), x1 NAND x2)\n",
    "\n",
    "w, b, errors = train_perceptron(training_data)"
   ]
  },
  {
   "cell_type": "code",
   "execution_count": 8,
   "metadata": {},
   "outputs": [
    {
     "data": {
      "text/plain": [
       "<matplotlib.figure.Figure at 0x10640ab90>"
      ]
     },
     "execution_count": 8,
     "metadata": {},
     "output_type": "execute_result"
    },
    {
     "data": {
      "text/plain": [
       "Text(0.5,0,u'epoch')"
      ]
     },
     "execution_count": 8,
     "metadata": {},
     "output_type": "execute_result"
    },
    {
     "data": {
      "text/plain": [
       "Text(0,0.5,u'errors')"
      ]
     },
     "execution_count": 8,
     "metadata": {},
     "output_type": "execute_result"
    },
    {
     "data": {
      "text/plain": [
       "Text(0.5,1,u'Errors at each epoch')"
      ]
     },
     "execution_count": 8,
     "metadata": {},
     "output_type": "execute_result"
    },
    {
     "data": {
      "text/plain": [
       "[<matplotlib.lines.Line2D at 0x10640acd0>]"
      ]
     },
     "execution_count": 8,
     "metadata": {},
     "output_type": "execute_result"
    },
    {
     "data": {
      "image/png": "[encoded data removed]",
      "text/plain": [
       "<matplotlib.figure.Figure at 0x10640ab90>"
      ]
     },
     "metadata": {},
     "output_type": "display_data"
    }
   ],
   "source": [
    "plt.figure()\n",
    "xs = errors.keys()\n",
    "ys = errors.values()\n",
    "plt.xlabel('epoch')\n",
    "plt.ylabel('errors')\n",
    "plt.title('Errors at each epoch')\n",
    "plt.plot(xs, ys)"
   ]
  },
  {
   "cell_type": "code",
   "execution_count": 35,
   "metadata": {},
   "outputs": [
    {
     "data": {
      "text/plain": [
       "(-1, 1)"
      ]
     },
     "execution_count": 35,
     "metadata": {},
     "output_type": "execute_result"
    },
    {
     "data": {
      "text/plain": [
       "(-1, 1)"
      ]
     },
     "execution_count": 35,
     "metadata": {},
     "output_type": "execute_result"
    },
    {
     "data": {
      "text/plain": [
       "Text(0.5,1,u'Separation boundary found')"
      ]
     },
     "execution_count": 35,
     "metadata": {},
     "output_type": "execute_result"
    },
    {
     "data": {
      "text/plain": [
       "[<matplotlib.lines.Line2D at 0x106c312d0>]"
      ]
     },
     "execution_count": 35,
     "metadata": {},
     "output_type": "execute_result"
    },
    {
     "data": {
      "image/png": "[encoded data removed]",
      "text/plain": [
       "<matplotlib.figure.Figure at 0x106a2ef90>"
      ]
     },
     "metadata": {},
     "output_type": "display_data"
    }
   ],
   "source": [
    "x_intersect = [0,-bias/w[1]]\n",
    "y_intersect = [-bias/w[0],0]\n",
    "plt.xlim([-1,1])\n",
    "plt.ylim([-1,1])\n",
    "plt.title('Separation boundary found')\n",
    "\n",
    "plt.plot(x_intersect, y_intersect)"
   ]
  },
  {
   "cell_type": "markdown",
   "metadata": {},
   "source": [
    "We can see the effect of using a smaller eta variable on the same training data:"
   ]
  },
  {
   "cell_type": "code",
   "execution_count": 36,
   "metadata": {},
   "outputs": [
    {
     "ename": "AttributeError",
     "evalue": "Neuron instance has no __call__ method",
     "output_type": "error",
     "traceback": [
      "\u001b[0;31m---------------------------------------------------------------------------\u001b[0m",
      "\u001b[0;31mAttributeError\u001b[0m                            Traceback (most recent call last)",
      "\u001b[0;32m<ipython-input-36-263599a8ed08>\u001b[0m in \u001b[0;36m<module>\u001b[0;34m()\u001b[0m\n\u001b[0;32m----> 1\u001b[0;31m \u001b[0mw\u001b[0m\u001b[0;34m,\u001b[0m \u001b[0mb\u001b[0m\u001b[0;34m,\u001b[0m \u001b[0merrors\u001b[0m \u001b[0;34m=\u001b[0m \u001b[0mtrain_perceptron\u001b[0m\u001b[0;34m(\u001b[0m\u001b[0mtraining_data\u001b[0m\u001b[0;34m,\u001b[0m \u001b[0meta\u001b[0m\u001b[0;34m=\u001b[0m\u001b[0;36m0.05\u001b[0m\u001b[0;34m)\u001b[0m\u001b[0;34m\u001b[0m\u001b[0m\n\u001b[0m\u001b[1;32m      2\u001b[0m \u001b[0;34m\u001b[0m\u001b[0m\n\u001b[1;32m      3\u001b[0m \u001b[0mplt\u001b[0m\u001b[0;34m.\u001b[0m\u001b[0mfigure\u001b[0m\u001b[0;34m(\u001b[0m\u001b[0;34m)\u001b[0m\u001b[0;34m\u001b[0m\u001b[0m\n\u001b[1;32m      4\u001b[0m \u001b[0mxs\u001b[0m \u001b[0;34m=\u001b[0m \u001b[0merrors\u001b[0m\u001b[0;34m.\u001b[0m\u001b[0mkeys\u001b[0m\u001b[0;34m(\u001b[0m\u001b[0;34m)\u001b[0m\u001b[0;34m\u001b[0m\u001b[0m\n\u001b[1;32m      5\u001b[0m \u001b[0mys\u001b[0m \u001b[0;34m=\u001b[0m \u001b[0merrors\u001b[0m\u001b[0;34m.\u001b[0m\u001b[0mvalues\u001b[0m\u001b[0;34m(\u001b[0m\u001b[0;34m)\u001b[0m\u001b[0;34m\u001b[0m\u001b[0m\n",
      "\u001b[0;32m<ipython-input-7-83037dcc27ce>\u001b[0m in \u001b[0;36mtrain_perceptron\u001b[0;34m(training_data, epochs, eta)\u001b[0m\n\u001b[1;32m     10\u001b[0m         \u001b[0merrors\u001b[0m\u001b[0;34m[\u001b[0m\u001b[0mi\u001b[0m\u001b[0;34m]\u001b[0m \u001b[0;34m=\u001b[0m \u001b[0;36m0\u001b[0m\u001b[0;34m\u001b[0m\u001b[0m\n\u001b[1;32m     11\u001b[0m         \u001b[0;32mfor\u001b[0m \u001b[0mx\u001b[0m\u001b[0;34m,\u001b[0m \u001b[0my\u001b[0m \u001b[0;32min\u001b[0m \u001b[0mtraining_data\u001b[0m\u001b[0;34m:\u001b[0m\u001b[0;34m\u001b[0m\u001b[0m\n\u001b[0;32m---> 12\u001b[0;31m             \u001b[0moutput\u001b[0m \u001b[0;34m=\u001b[0m \u001b[0mperceptron\u001b[0m\u001b[0;34m(\u001b[0m\u001b[0mx\u001b[0m\u001b[0;34m,\u001b[0m \u001b[0mw\u001b[0m\u001b[0;34m,\u001b[0m \u001b[0mbias\u001b[0m\u001b[0;34m)\u001b[0m\u001b[0;34m\u001b[0m\u001b[0m\n\u001b[0m\u001b[1;32m     13\u001b[0m             \u001b[0merror\u001b[0m \u001b[0;34m=\u001b[0m \u001b[0my\u001b[0m \u001b[0;34m-\u001b[0m \u001b[0moutput\u001b[0m\u001b[0;34m\u001b[0m\u001b[0m\n\u001b[1;32m     14\u001b[0m             \u001b[0;32mif\u001b[0m \u001b[0merror\u001b[0m \u001b[0;34m!=\u001b[0m \u001b[0;36m0\u001b[0m\u001b[0;34m:\u001b[0m\u001b[0;34m\u001b[0m\u001b[0m\n",
      "\u001b[0;31mAttributeError\u001b[0m: Neuron instance has no __call__ method"
     ]
    }
   ],
   "source": [
    "w, b, errors = train_perceptron(training_data, eta=0.05)\n",
    "\n",
    "plt.figure()\n",
    "xs = errors.keys()\n",
    "ys = errors.values()\n",
    "plt.xlabel('epoch')\n",
    "plt.ylabel('errors')\n",
    "plt.title('Errors at each epoch')\n",
    "plt.plot(xs, ys)"
   ]
  },
  {
   "cell_type": "markdown",
   "metadata": {},
   "source": [
    "Perceptrons have some limitations:\n",
    "\n",
    "- They only converge for linearly separable problems, which most interesting problems are not\n",
    "- Because they use a step function, we can't make small tweaks to their output - it's either 0 or 1\n",
    "\n",
    "The way we deal with the first issue will be by building networks of neurons, where the output of one layer can be inputs to the next layer. This allows us to solve complex problems (or, mathematically - can approximate to an arbitrary accuracy any function). However this exasperates our second problem - without being able to tweak our perceptrons in a predictable way we're not going to be able to create a trainable network of them. \n",
    "\n",
    "For this reason, we change the non-linearity, that is the **activation function**. Our computed $\\mathbf{x} \\cdot \\mathbf{w} + b$ doesn't need to change, but instead of using the inequality with 0, we pass this value to a different function."
   ]
  },
  {
   "cell_type": "markdown",
   "metadata": {},
   "source": [
    "# Sigmoid neurons\n",
    "\n",
    "The sigmoid neuron uses the activation function $\\sigma(z) = \\frac{1}{1+e^-z}$, where z is our computed $\\mathbf{x} \\cdot \\mathbf{w} + b$. Before we code this, we can examine its shape:"
   ]
  },
  {
   "cell_type": "code",
   "execution_count": 11,
   "metadata": {},
   "outputs": [],
   "source": [
    "def sigmoid_fn(x):\n",
    "    return 1/(1+np.exp(-x))"
   ]
  },
  {
   "cell_type": "code",
   "execution_count": 12,
   "metadata": {},
   "outputs": [
    {
     "data": {
      "text/plain": [
       "Text(0.5,1,u'Sigmoid')"
      ]
     },
     "execution_count": 12,
     "metadata": {},
     "output_type": "execute_result"
    },
    {
     "data": {
      "text/plain": [
       "[<matplotlib.lines.Line2D at 0x1066cef50>]"
      ]
     },
     "execution_count": 12,
     "metadata": {},
     "output_type": "execute_result"
    },
    {
     "data": {
      "image/png": "[encoded data removed]",
      "text/plain": [
       "<matplotlib.figure.Figure at 0x1066e1b50>"
      ]
     },
     "metadata": {},
     "output_type": "display_data"
    }
   ],
   "source": [
    "xs = np.linspace(-5,5,100) # 100 evenly spaced values between -5 and 5\n",
    "ys = sigmoid_fn(xs)\n",
    "\n",
    "plt.title('Sigmoid')\n",
    "plt.plot(xs, ys)"
   ]
  },
  {
   "cell_type": "code",
   "execution_count": 13,
   "metadata": {},
   "outputs": [
    {
     "data": {
      "text/plain": [
       "Text(0.5,1,u'Step function')"
      ]
     },
     "execution_count": 13,
     "metadata": {},
     "output_type": "execute_result"
    },
    {
     "data": {
      "text/plain": [
       "[<matplotlib.lines.Line2D at 0x10672a890>]"
      ]
     },
     "execution_count": 13,
     "metadata": {},
     "output_type": "execute_result"
    },
    {
     "data": {
      "image/png": "[encoded data removed]",
      "text/plain": [
       "<matplotlib.figure.Figure at 0x10640aa10>"
      ]
     },
     "metadata": {},
     "output_type": "display_data"
    }
   ],
   "source": [
    "# Compare this to the step function:\n",
    "\n",
    "def step(x):\n",
    "    return 1 if x>0 else 0\n",
    "\n",
    "xs = np.linspace(-5,5,100) # 100 evenly spaced values between -5 and 5\n",
    "ys = [step(x) for x in xs]\n",
    "\n",
    "plt.title('Step function')\n",
    "plt.plot(xs, ys)"
   ]
  },
  {
   "cell_type": "markdown",
   "metadata": {},
   "source": [
    "We can see that the sigmoid is a smoothed step function, maintaining the bounds of 0 and 1, but changing by only a small amount each time its input changes. This is the only difference between the sigmoid and perceptron, but it turns out to be significant. "
   ]
  },
  {
   "cell_type": "markdown",
   "metadata": {},
   "source": [
    "At this point it makes sense to generalise our code to define a neuron, with a view to eventually building up a neural network - that is, a network of layers of neurons. So let's define a neuron:"
   ]
  },
  {
   "cell_type": "code",
   "execution_count": 14,
   "metadata": {},
   "outputs": [],
   "source": [
    "class Neuron:\n",
    "    def __init__(self, num_inputs, activation_function):\n",
    "        # We always initialise a neuron with random weights and bias\n",
    "        # We must pass an activation function, as this is different for each type of neuron\n",
    "        self.weights = np.random.rand(num_inputs)\n",
    "        self.bias = np.random.rand()\n",
    "        self.num_inputs = num_inputs # This will let us generalise updates\n",
    "        self.activation_function = activation_function\n",
    "        \n",
    "    def _compute_value(self, xs):\n",
    "        # Compute the value of the neuron for the given inputs\n",
    "        return np.dot(xs, self.weights) + self.bias\n",
    "    \n",
    "    def get_value(self, xs):\n",
    "        return self.activation_function(self._compute_value(xs))"
   ]
  },
  {
   "cell_type": "markdown",
   "metadata": {},
   "source": [
    "Essentially, a neuron knows how to compute its value from its weights and bias term, and it has an activation function, which takes such a value and computes the desired output for the neuron. "
   ]
  },
  {
   "cell_type": "code",
   "execution_count": 15,
   "metadata": {},
   "outputs": [
    {
     "data": {
      "text/plain": [
       "1"
      ]
     },
     "execution_count": 15,
     "metadata": {},
     "output_type": "execute_result"
    },
    {
     "data": {
      "text/plain": [
       "0.63452654848784429"
      ]
     },
     "execution_count": 15,
     "metadata": {},
     "output_type": "execute_result"
    }
   ],
   "source": [
    "# So a perceptron is simply:\n",
    "perceptron = Neuron(2, activation_function = step)\n",
    "perceptron.get_value([0,0])\n",
    "\n",
    "# And a sigmoid is simply:\n",
    "sigmoid = Neuron(2, activation_function = sigmoid_fn)\n",
    "sigmoid.get_value([0,0])"
   ]
  },
  {
   "cell_type": "markdown",
   "metadata": {},
   "source": [
    "Now we can re-implement our learning method using the generic neuron (and thus supporting any given activation function)"
   ]
  },
  {
   "cell_type": "code",
   "execution_count": 16,
   "metadata": {},
   "outputs": [],
   "source": [
    "%%add_to Neuron\n",
    "def train(self, training_data, epochs=30, eta=0.05):\n",
    "    errors = {}\n",
    "\n",
    "    for i in range(epochs):\n",
    "        errors[i] = 0\n",
    "        for X, y in training_data:\n",
    "            output = self.get_value(X)\n",
    "            error = y - output\n",
    "            if np.absolute(error) > 0.5: # Not a binary output, so allow some difference here - as long as we're close\n",
    "                errors[i]+=1\n",
    "\n",
    "            # Update each weight in turn, and the bias\n",
    "            for j in range(self.num_inputs):\n",
    "                self.weights[j] += eta * error * X[j]\n",
    "            self.bias += eta * error\n",
    "    \n",
    "    return errors"
   ]
  },
  {
   "cell_type": "code",
   "execution_count": 17,
   "metadata": {},
   "outputs": [],
   "source": [
    "sigmoid = Neuron(2, activation_function = step) # Make sure we re-create the neuron to get the new method included\n",
    "errors = sigmoid.train(training_data)"
   ]
  },
  {
   "cell_type": "code",
   "execution_count": 18,
   "metadata": {},
   "outputs": [
    {
     "data": {
      "text/plain": [
       "(-1, 1)"
      ]
     },
     "execution_count": 18,
     "metadata": {},
     "output_type": "execute_result"
    },
    {
     "data": {
      "text/plain": [
       "(-1, 1)"
      ]
     },
     "execution_count": 18,
     "metadata": {},
     "output_type": "execute_result"
    },
    {
     "data": {
      "text/plain": [
       "Text(0.5,1,u'Separation boundary found')"
      ]
     },
     "execution_count": 18,
     "metadata": {},
     "output_type": "execute_result"
    },
    {
     "data": {
      "text/plain": [
       "[<matplotlib.lines.Line2D at 0x10640a950>]"
      ]
     },
     "execution_count": 18,
     "metadata": {},
     "output_type": "execute_result"
    },
    {
     "data": {
      "image/png": "[encoded data removed]",
      "text/plain": [
       "<matplotlib.figure.Figure at 0x10640aad0>"
      ]
     },
     "metadata": {},
     "output_type": "display_data"
    }
   ],
   "source": [
    "x_intersect = [0,-sigmoid.bias/sigmoid.weights[1]]\n",
    "y_intersect = [-sigmoid.bias/sigmoid.weights[0],0]\n",
    "plt.xlim([-1,1])\n",
    "plt.ylim([-1,1])\n",
    "plt.title('Separation boundary found')\n",
    "plt.plot(x_intersect, y_intersect)"
   ]
  },
  {
   "cell_type": "code",
   "execution_count": 19,
   "metadata": {},
   "outputs": [
    {
     "data": {
      "text/plain": [
       "<matplotlib.figure.Figure at 0x10697ee50>"
      ]
     },
     "execution_count": 19,
     "metadata": {},
     "output_type": "execute_result"
    },
    {
     "data": {
      "text/plain": [
       "Text(0.5,0,u'epoch')"
      ]
     },
     "execution_count": 19,
     "metadata": {},
     "output_type": "execute_result"
    },
    {
     "data": {
      "text/plain": [
       "Text(0,0.5,u'errors')"
      ]
     },
     "execution_count": 19,
     "metadata": {},
     "output_type": "execute_result"
    },
    {
     "data": {
      "text/plain": [
       "Text(0.5,1,u'Errors at each epoch')"
      ]
     },
     "execution_count": 19,
     "metadata": {},
     "output_type": "execute_result"
    },
    {
     "data": {
      "text/plain": [
       "[<matplotlib.lines.Line2D at 0x10697edd0>]"
      ]
     },
     "execution_count": 19,
     "metadata": {},
     "output_type": "execute_result"
    },
    {
     "data": {
      "image/png": "[encoded data removed]",
      "text/plain": [
       "<matplotlib.figure.Figure at 0x10697ee50>"
      ]
     },
     "metadata": {},
     "output_type": "display_data"
    }
   ],
   "source": [
    "plt.figure()\n",
    "xs = errors.keys()\n",
    "ys = errors.values()\n",
    "plt.xlabel('epoch')\n",
    "plt.ylabel('errors')\n",
    "plt.title('Errors at each epoch')\n",
    "plt.plot(xs, ys)"
   ]
  },
  {
   "cell_type": "markdown",
   "metadata": {},
   "source": [
    "# A layer of neurons: Naive\n",
    "\n",
    "Like a perceptron, a sigmoid can only classify linearly separable problems. To solve general problems we need to have multiple layers of neurons - and because each neuron has a non-linear activation function this will provide us a non-linear system and allow us to approximate non-linearly separable (actually, all) functions. \n",
    "\n",
    "Let's first consider what a layer of neurons actually looks like, in the simplest way:"
   ]
  },
  {
   "cell_type": "code",
   "execution_count": 20,
   "metadata": {},
   "outputs": [],
   "source": [
    "class Layer:     \n",
    "    def __init__(self):\n",
    "        self.neurons = []\n",
    "    \n",
    "    def add_neuron(self, neuron):\n",
    "        self.neurons.append(neuron)\n",
    "        \n",
    "    def evaluate(self, xs):\n",
    "        outputs = []\n",
    "        for neuron in self.neurons:\n",
    "            outputs.append(neuron.get_value(xs))\n",
    "        \n",
    "        return outputs"
   ]
  },
  {
   "cell_type": "markdown",
   "metadata": {},
   "source": [
    "A layer of neurons just contains the neurons that have been added to it. It receives some input - just like a single neuron does - but its output contains the computed value of each neuron in the layer.\n",
    "\n",
    "The way to think of this is as the layer receiving the output of the previous layer, or the inputs to the network as a whole. Then the outputs of this layer could be the outputs of the network as a whole, or they could be fed forward into the next layer. \n",
    "\n",
    "In each layer, every neuron receives as input the complete output of the last layer. We call these layers 'fully connected' or 'dense', and they're the only sort of layer we'll consider here. \n",
    "\n",
    "Consider a layer of 3 neurons:"
   ]
  },
  {
   "cell_type": "code",
   "execution_count": 21,
   "metadata": {},
   "outputs": [
    {
     "data": {
      "text/plain": [
       "[0.049177462756930544, 0.02888933593984274, 0.0019240636538269203]"
      ]
     },
     "execution_count": 21,
     "metadata": {},
     "output_type": "execute_result"
    },
    {
     "data": {
      "text/plain": [
       "[0.57437706909313158,\n",
       " 0.73869048625923339,\n",
       " 0.69071199929040938,\n",
       " 0.87125647208647572,\n",
       " 0.73249934220212476,\n",
       " 0.59309161142966804]"
      ]
     },
     "execution_count": 21,
     "metadata": {},
     "output_type": "execute_result"
    }
   ],
   "source": [
    "layer = Layer()\n",
    "for i in range(3): # Add 3 neurons\n",
    "    sig = Neuron(4, activation_function = sigmoid_fn) # Each sigmoid takes 4 inputs\n",
    "    layer.add_neuron(sig)\n",
    "\n",
    "layer.evaluate([1,-4,3,-6]) # We can evaluate any 4 real numbers as input\n",
    "\n",
    "for i in range(3): # Add 3 more neurons\n",
    "    sig = Neuron(4, activation_function = sigmoid_fn) # Each sigmoid takes 4 inputs\n",
    "    layer.add_neuron(sig)\n",
    "\n",
    "layer.evaluate([1, 0, 1, -1])"
   ]
  },
  {
   "cell_type": "markdown",
   "metadata": {},
   "source": [
    "As we can see, our layer takes as input 4 values, and each of its neurons can take as input such a list. It evaluates to 3 outputs, because we added 3 neurons. When we add another 3 neurons for a total of 6, it evaluates to 6 outputs.\n",
    "\n",
    "Clearly all of our neurons need to share the same number of inputs - the same input it passed to all of them when we evaluate them. A better API would enforce this constraint. I'm not sure if there's ever a reason to mix-and-match activation functions within a layer, but we're not going to do that here - so let's also make the activation function a parameter of the `Layer` and enforce that it's the same for all neurons. Here's a better API for a `Layer`:"
   ]
  },
  {
   "cell_type": "code",
   "execution_count": 22,
   "metadata": {},
   "outputs": [
    {
     "data": {
      "text/plain": [
       "[0.99436681343947719, 0.9670452402866816, 0.98368409106320842]"
      ]
     },
     "execution_count": 22,
     "metadata": {},
     "output_type": "execute_result"
    },
    {
     "data": {
      "text/plain": [
       "[0.39503501971197053,\n",
       " 0.78934554680822933,\n",
       " 0.50501476120121269,\n",
       " 0.68461699203082227,\n",
       " 0.48765506982745527,\n",
       " 0.77877715258694657]"
      ]
     },
     "execution_count": 22,
     "metadata": {},
     "output_type": "execute_result"
    }
   ],
   "source": [
    "class Layer:\n",
    "    def __init__(self, num_inputs, num_neurons, activation_function):\n",
    "        self.neurons = []\n",
    "        for i in range(num_neurons):\n",
    "            neuron = Neuron(num_inputs, activation_function)\n",
    "            self.neurons.append(neuron)\n",
    "            \n",
    "    def evaluate(self, xs):\n",
    "        outputs = []\n",
    "        for neuron in self.neurons:\n",
    "            outputs.append(neuron.get_value(xs))\n",
    "        \n",
    "        return outputs\n",
    "    \n",
    "layer = Layer(4, 3, sigmoid_fn)\n",
    "layer.evaluate([1,2,3,4])\n",
    "\n",
    "layer = Layer(4, 6, sigmoid_fn)\n",
    "layer.evaluate([1,-1,1,-1])"
   ]
  },
  {
   "cell_type": "markdown",
   "metadata": {},
   "source": [
    "Notice that we've lost some power here - we can no longer add to a layer after it's been created. It'd be easy enough to add that back, but we won't need to do that here so we'll keep the simpler class going forward. "
   ]
  },
  {
   "cell_type": "markdown",
   "metadata": {},
   "source": [
    "# Representing a layer as a matrix\n",
    "\n",
    "Recall what's happening when we compute the value of each neuron - we compute $\\mathbf{w} \\cdot \\mathbf{x} + b$, and then we pass that to the activation function (eg. step or sigmoid).\n",
    "\n",
    "If we say that $\\mathbf{x}$, our input vector, is a column vector (which makes sense graphically if we vertically align neurons within a layer) of length $n$, then we know that $\\mathbf{w}$ is also a vector of length $n$. If we say that $\\mathbf{w}$ is a row vector (or we transpose it from a column vector so that it is), then we can compute the dot product by doing a matrix multiply of the two vectors.\n",
    "\n",
    "For example, let's say that $\\mathbf{w} = \\begin{pmatrix}1 & 2 & 3\\end{pmatrix}$ and $\\mathbf{x} = \\begin{pmatrix}5 \\\\ 10 \\\\ 2 \\end{pmatrix}$, then we can compute their dot product $\\mathbf{w} \\cdot \\mathbf{x} = \\begin{pmatrix}1 & 2 & 3 \\end{pmatrix} \\cdot \\begin{pmatrix}5 \\\\ 10 \\\\ 2\\end{pmatrix}  = (1x5) + (2x10) + (3x2) = 31$\n",
    "\n",
    "If we have a second neuron in the same layer (so receiving the same input $\\mathbf{x}$), with weights $\\mathbf{w'} = \\begin{pmatrix}2 & -2 & 0\\end{pmatrix}$, then we can say that $\\mathbf{w'} \\cdot \\mathbf{x} = \\begin{pmatrix}2 & -2 & 0\\end{pmatrix} \\cdot \\begin{pmatrix}5 \\\\ 10 \\\\ 2 \\end{pmatrix} = (2x5) + (-2x10) + (0x2) = -10$\n",
    "\n",
    "Then we can say that the dot products for our layer are $\\begin{pmatrix}31 \\\\ -10\\end{pmatrix}$. Recall that the value (before the activation function) is $\\mathbf{w} \\cdot \\mathbf{x} + b$ - so we need to deal with our bias terms. Suppose the first neuron had bias $b = 3$ and the second neuron $b' = 5$, then we can add the bias terms using vector addition: $\\begin{pmatrix}31 \\\\ -10\\end{pmatrix} + \\begin{pmatrix}3 \\\\ 5\\end{pmatrix} = \\begin{pmatrix}34 \\\\ -5\\end{pmatrix}$\n",
    "\n",
    "And finally we apply the activation function, say for simplicity that these are perceptrons: $\\begin{pmatrix} 1 \\\\\n",
    "0\\end{pmatrix}$\n",
    "\n",
    "This works, but we haven't actually gained anything - we've just split adding our bias and passing through the activation function to the end, doing it after we've done each dot product - but we're still doing individual dot products, and then combining them into a vector we can add the bias terms to and then element-wise applying the activation function. It turns out that we can use matrix multiplication to compute all the neurons in the layer at the same time. We say that $\\mathbf{W}$ is a matrix, where each row is the weights of a single neuron. So for the above 2-neuron layer:\n",
    "$\\mathbf{W} = \\begin{pmatrix} 1 & 2 & 3 \\\\ 2 & -2 & 0 \\end{pmatrix}$. Now, we use matrix multiplication: \n",
    "$\\begin{pmatrix} 1 & 2 & 3 \\\\ 2 & -2 & 0 \\end{pmatrix} \\cdot \\begin{pmatrix}5 \\\\ 10 \\\\ 2 \\end{pmatrix} = \\begin{pmatrix}31 \\\\ -10 \\end{pmatrix}$\n",
    "\n",
    "We then add our bias terms, and apply the activation function to each element as before. \n",
    "\n",
    "This gives us a different way to view a layer of our network, it's simply a matrix $\\mathbf{W}$ and a vector $\\mathbf{b}$ - we don't need to loop over all our neurons or even define them as their own objects. The matrix has one row for each neuron (representing its weights). The length of each neuron's weights (ie the number of columns) is equal to the input. If we say we have m inputs to our layer, and n neurons in the layer, then our matrix multiply $\\mathbf{W} \\cdot \\mathbf{x}$ looks like $(nxm) \\cdot (mx1) = (nx1)$. This is what we'd expect, and explains why our weight matrix must be that specific shape. Each layer takes as input a column vector, and outputs a column vector of a length determined by its number of neurons.\n",
    "\n",
    "Of course, our last layer needs to have the expected output shape for the problem - and therefore has a known number of rows. We can control the number of neurons, and thus rows, in all other layers though."
   ]
  },
  {
   "cell_type": "code",
   "execution_count": 23,
   "metadata": {},
   "outputs": [
    {
     "data": {
      "text/plain": [
       "array([[ 0.46587637],\n",
       "       [ 0.30082395]])"
      ]
     },
     "execution_count": 23,
     "metadata": {},
     "output_type": "execute_result"
    }
   ],
   "source": [
    "# Rewriting our Layer using the matrix multiply form\n",
    "class Layer:\n",
    "        def __init__(self, num_inputs, num_neurons, activation_function):\n",
    "            # We use Xavier initialization, variance = 2/(in size + out size) - this scales our random weights sensibly\n",
    "            # The shape of our weights is n x m, where m = num columns = num_inputs, and n=num rows = num_neurons\n",
    "            variance = 2/float(num_inputs + num_neurons)\n",
    "            self.weights = np.random.normal(scale=variance, size=(num_neurons, num_inputs))           \n",
    "            \n",
    "            # The shape of bias is 1 row, with a column for each neuron - a row vector.\n",
    "            self.bias = np.random.random_sample(size=(num_neurons, 1))\n",
    "            \n",
    "            self.activation_function = activation_function\n",
    "            \n",
    "        def evaluate(self, x):\n",
    "            # First, matrix multiply `W` by `x`, ie. weights by activations\n",
    "            wx = np.matmul(self.weights, x)\n",
    "            \n",
    "            # Add the bias term\n",
    "            add_b = wx + self.bias\n",
    "            \n",
    "            # Pass through the activation function\n",
    "            return self.activation_function(add_b)\n",
    "\n",
    "layer = Layer(3, 2, sigmoid_fn)\n",
    "x = np.array([1,2,3]).reshape(3,1)\n",
    "\n",
    "layer.evaluate(x)"
   ]
  },
  {
   "cell_type": "markdown",
   "metadata": {},
   "source": [
    "# From a layer to a network\n",
    "\n",
    "Now we have everything that we need to define a simple feed-forward neural network consisting of dense layers of neurons: we'll include our input and output layers as a layer of neurons, and we can have any layers between them - we just need to make sure our dimensions all match up.\n",
    "\n",
    "We won't consider our MNIST dataset in any detail yet, other than to say that it contains images of 28x28 greyscale pixels. One obvious way to represent this as an input would be as 28x28=784 values, with each representing the intensity of one pixel. Our job is to classify which number the image is a drawing of, a single digit 0-9. So our final layer will have 10 outputs representing the digits 0-9, each representing the probability that the image is that digit. We would predict that the drawing is the digit with the highest probability. We call all other layers (those that aren't the input or output layer) hidden layers, and we can choose how many of these we want, and how complex they should be. \n",
    "\n",
    "For example, if we wanted a single hidden layer with 40 neurons, then we'd need two layers of neurons:\n",
    "- A layer that takes as input 784 values, and has 40 neurons, and thus outputs 40 values - our hidden layer\n",
    "- A layer that takes as input 40 values, and has 10 neurons, and thus outputs 10 values - our output layer\n",
    "\n",
    "We'd generate predictions by evaluating the hidden layer with the input of 784 values, and then evaluating the output layer with the input of 40 values resulting from that. \n",
    "\n",
    "If we wanted to have two hidden layers with 50 and 110 neurons respectively, then we'd need three layers of neurons:\n",
    "- A layer that takes as input 784 values, and has 50 neurons, and thus outputs 50 values - our first hidden layer\n",
    "- A layer that takes as input 50 values, and has 110 neurons, and thus outputs 110 values - our second hidden layer\n",
    "- A layer that takes as input 110 values, and has 10 neurons, and thus outputs 10 values - our output layer"
   ]
  },
  {
   "cell_type": "code",
   "execution_count": 24,
   "metadata": {},
   "outputs": [],
   "source": [
    "# Let's see how a network looks in practice\n",
    "class Network:\n",
    "    def __init__(self):\n",
    "        self.layers = []\n",
    "        \n",
    "    def add_layer(self, layer):\n",
    "        self.layers.append(layer)\n",
    "        \n",
    "    def evaluate(self, x):\n",
    "        value = x\n",
    "        for layer in self.layers:\n",
    "            value = layer.evaluate(value)\n",
    "        \n",
    "        return value"
   ]
  },
  {
   "cell_type": "markdown",
   "metadata": {},
   "source": [
    "This looks very similar to our first attempt at a `Layer`, but this time we won't simplify any further: we want to permit any layer to be used in our network (so a network can contain layers with different activation functions), and additionally as each layer has a non-linearity (the activation function) we can't simplify the computation any further."
   ]
  },
  {
   "cell_type": "code",
   "execution_count": 25,
   "metadata": {},
   "outputs": [],
   "source": [
    "# Our examples of networks from above, using sigmoids:\n",
    "net1 = Network()\n",
    "net1.add_layer(Layer(784, 40, sigmoid_fn)) # Hidden layer\n",
    "net1.add_layer(Layer(40, 10, sigmoid_fn)) # Output layer\n",
    "\n",
    "net2 = Network()\n",
    "net2.add_layer(Layer(784, 50, sigmoid_fn)) # First hidden layer\n",
    "net2.add_layer(Layer(50, 110, sigmoid_fn)) # Second hidden layer\n",
    "net2.add_layer(Layer(110, 10, sigmoid_fn))"
   ]
  },
  {
   "cell_type": "code",
   "execution_count": 26,
   "metadata": {},
   "outputs": [
    {
     "data": {
      "text/plain": [
       "array([[ 0.64203966],\n",
       "       [ 0.77246824],\n",
       "       [ 0.67130969],\n",
       "       [ 0.72062288],\n",
       "       [ 0.60142098],\n",
       "       [ 0.55008048],\n",
       "       [ 0.48259137],\n",
       "       [ 0.60766909],\n",
       "       [ 0.65611917],\n",
       "       [ 0.63797544]])"
      ]
     },
     "execution_count": 26,
     "metadata": {},
     "output_type": "execute_result"
    },
    {
     "data": {
      "text/plain": [
       "array([[ 0.67020011],\n",
       "       [ 0.66508444],\n",
       "       [ 0.50120856],\n",
       "       [ 0.71071854],\n",
       "       [ 0.61189746],\n",
       "       [ 0.59950831],\n",
       "       [ 0.63401026],\n",
       "       [ 0.5323064 ],\n",
       "       [ 0.66570045],\n",
       "       [ 0.66381289]])"
      ]
     },
     "execution_count": 26,
     "metadata": {},
     "output_type": "execute_result"
    }
   ],
   "source": [
    "x = np.random.random_sample(size=(784,1))\n",
    "\n",
    "net1.evaluate(x)\n",
    "net2.evaluate(x)"
   ]
  },
  {
   "cell_type": "markdown",
   "metadata": {},
   "source": [
    "# Training the network\n",
    "\n",
    "At this point we've got everything that we need to build a network, made of layers of neurons - to compute any classification problem. We do this by feeding the input through the layers, so we call this a feed-forward network. The problem we have now is training it: we can be given inputs and known outputs, we can pass it the input and observe the output, but we don't yet have a way to adjust the weights. We can't update them like we did for a single neuron - that doesn't capture our more subtle relationship between neurons within our network. \n",
    "\n",
    "This is where backpropagation comes in."
   ]
  },
  {
   "cell_type": "code",
   "execution_count": null,
   "metadata": {},
   "outputs": [],
   "source": []
  },
  {
   "cell_type": "code",
   "execution_count": 27,
   "metadata": {},
   "outputs": [],
   "source": [
    "# Our activation function needs to be differentiable\n",
    "class Sigmoid_cls:\n",
    "    def __init__(self):\n",
    "        pass\n",
    "    \n",
    "    def compute(self, z):\n",
    "        return 1/(1+np.exp(-z))\n",
    "    \n",
    "    def derivative(self, z):\n",
    "        return self.compute(z)*(1-self.compute(z))"
   ]
  },
  {
   "cell_type": "code",
   "execution_count": 169,
   "metadata": {},
   "outputs": [],
   "source": [
    "# We introduce a cost function, also differentiable (quadratic cost function)\n",
    "class QuadraticCost_cls:\n",
    "    def __init__(self):\n",
    "        pass\n",
    "    \n",
    "    def compute(self, computed, desired):\n",
    "        # Quadratic cost of a single training example\n",
    "        return ((computed - desired) ** 2).mean(axis=None)\n",
    "    \n",
    "    def derivative(self, computed, desired):\n",
    "        # Derivative of the compute function, returned as an array\n",
    "        return (computed - desired)"
   ]
  },
  {
   "cell_type": "code",
   "execution_count": 50,
   "metadata": {},
   "outputs": [],
   "source": [
    "%%add_to Layer\n",
    "# Backprop is simpler if we calculate both the weighted input z(x) ie wx + b, as well as f(z(x)) ie sigmoid\n",
    "# So modify layer:\n",
    "def weighted_input(self, x):\n",
    "    # First, matrix multiply `W` by `x`, ie. weights by activation\n",
    "    wx= np.matmul(self.weights, x)\n",
    "            \n",
    "    # Add the bias term\n",
    "    add_b = wx + self.bias\n",
    "    \n",
    "    # We return without applying the activation function\n",
    "    return add_b\n",
    "\n",
    "def evaluate(self, xs):\n",
    "    # Pass the weighted input through the activation function\n",
    "    return self.activation_function.compute(self.weighted_input(xs))"
   ]
  },
  {
   "cell_type": "code",
   "execution_count": 51,
   "metadata": {},
   "outputs": [],
   "source": [
    "%%add_to Network\n",
    "# Add the cost function as a value of the network\n",
    "def __init__(self, cost_function):\n",
    "    self.layers = []\n",
    "    self.cost_function = cost_function"
   ]
  },
  {
   "cell_type": "code",
   "execution_count": null,
   "metadata": {},
   "outputs": [],
   "source": []
  },
  {
   "cell_type": "code",
   "execution_count": null,
   "metadata": {},
   "outputs": [],
   "source": []
  },
  {
   "cell_type": "markdown",
   "metadata": {},
   "source": [
    "# Notes\n",
    "\n",
    "- We split the forward pass to return z(x), and then pass on f(z(x))\n"
   ]
  },
  {
   "cell_type": "code",
   "execution_count": 172,
   "metadata": {},
   "outputs": [],
   "source": [
    "%%add_to Network\n",
    "def backprop(self, network_input, desired_output):\n",
    "    gradient_b = [np.zeros(layer.bias.shape) for layer in self.layers] # layer-by-layer gradients wrt biases\n",
    "    gradient_w = [np.zeros(layer.weights.shape) for layer in self.layers] # layer-by-layer gradients wrt weights\n",
    "    \n",
    "    # Feedforward - pass the input through the current network, same effect as evaluate\n",
    "    activation = network_input # Current activation passing through\n",
    "    activations = [network_input] # Activations, per layer, starting from input\n",
    "    weighted_inputs = [] # Weighted inputs, per layer, starting from first non-input layer. Stored for backward pass.\n",
    "    for layer in self.layers:\n",
    "        z = layer.weighted_input(activation)\n",
    "        weighted_inputs.append(z)\n",
    "        activation = layer.activation_function.compute(z)\n",
    "        activations.append(activation)\n",
    "    \n",
    "    # Backward pass - propagate errors backward\n",
    "    \n",
    "    # First we deal with the last layer\n",
    "    # Last layer is special because:\n",
    "    # 1) It can compare its actual output to the desired output (the others all feed through more layers first)\n",
    "    # 2) It doesn't have any layers after it to feed into\n",
    "    last_layer = self.layers[-1]\n",
    "    last_weighted_input = weighted_inputs[-1]\n",
    "    network_output = activations[-1]   \n",
    "    previous_activations = activations[-2]\n",
    "    \n",
    "    activation_derivative = last_layer.activation_function.derivative(last_weighted_input)\n",
    "    cost_derivative = self.cost_function.derivative(network_output, desired_output)\n",
    "    delta = activation_derivative * cost_derivative\n",
    "    \n",
    "    # Delta is the shape of our last layer (since both its components are), which perfectly matches its biases\n",
    "    gradient_b[-1] = delta\n",
    "    \n",
    "    # The weights in the last layer are matrix multiplied with the activations in the previous layer \n",
    "    # as part of computing the weighted input. \n",
    "    # We do the same here to find the gradient, but we must transpose it for the matrix multiply to \n",
    "    # have the right shape (that of the last layer weights)\n",
    "    # eg. If the last layer is 2 neurons, and the second to last is 5, then our weights are shape (2,5)\n",
    "    # delta is (2,1) and activations before are (5,1), transposed to (1,5)\n",
    "    gradient_w[-1] = np.matmul(delta, previous_activations.transpose())\n",
    "    \n",
    "    # Then we deal with each other layer, moving backward\n",
    "    # Using negative indices to count backward, so this is from 2nd-to-last layer to first layer\n",
    "    # When we index backward we count from 1 (ie last layer is -1), so first layer is at [-len(layers)]\n",
    "    # and range excludes the end point so we add 1 to include that first layer\n",
    "    for this_l in range(2, len(self.layers)+1):\n",
    "        this_layer = self.layers[-this_l]\n",
    "        this_weighted_input = weighted_inputs[-this_l]\n",
    "        layer_after_weights = self.layers[-this_l+1].weights # The weights of the layer after this one when going forward  \n",
    "        previous_activations = activations[-this_l-1] # We included input layer in activations\n",
    "        \n",
    "        previous_delta = delta # Same shape as the layer after this one\n",
    "        activation_derivative = this_layer.activation_function.derivative(this_weighted_input) # Same shape as this layer\n",
    "        \n",
    "        # We can't use the network cost function here, because we don't know exactly our target output,\n",
    "        # only the gradient we've computed for the layer after this one. We can find that cost though:\n",
    "        \n",
    "        # If we say that this layer has m neurons and the layer after this has m', then we know that \n",
    "        # the weights of the layer after this are shape (m', m)\n",
    "        # We know that the previous delta was shape (m', 1) - the shape of the layer after this\n",
    "        # Our cost is a function of these, and needs to be of the same shape as our activation function,\n",
    "        # which is (m, 1)\n",
    "        # So we matrix multiply the transpose of the weights (m, m') by the previous delta (m', 1), which gives\n",
    "        # us the correct shape.\n",
    "        cost_derivative = np.matmul(layer_after_weights.transpose(), previous_delta)\n",
    "        \n",
    "        delta = activation_derivative * cost_derivative\n",
    "        \n",
    "        # Again, delta is the shape of this layer since both its components are\n",
    "        gradient_b[-this_l] = delta\n",
    "        \n",
    "        # And again we matrix multiply it with the activations in the layer before\n",
    "        # to match the weights at this layer\n",
    "        gradient_w[-this_l] = np.dot(delta, previous_activations.transpose())\n",
    "\n",
    "    print activations[-1] # We'll comment this out if it gets annoying, but it's a useful illustration\n",
    "    print self.cost_function.compute(activations[-1], desired_output) # ^ Same with this\n",
    "    print\n",
    "    return (gradient_b, gradient_w)"
   ]
  },
  {
   "cell_type": "code",
   "execution_count": 175,
   "metadata": {},
   "outputs": [
    {
     "name": "stdout",
     "output_type": "stream",
     "text": [
      "[[ 0.64194898]\n",
      " [ 0.53692561]]\n",
      "0.208244824507\n",
      "\n",
      "[[ 0.83275194]\n",
      " [ 0.18084706]]\n",
      "0.030338786921\n",
      "\n",
      "[[ 0.86954241]\n",
      " [ 0.13622218]]\n",
      "0.0177878319062\n",
      "\n",
      "[[ 0.88926067]\n",
      " [ 0.11409575]]\n",
      "0.0126405192036\n",
      "\n",
      "[[ 0.90212244]\n",
      " [ 0.10011386]]\n",
      "0.00980140031983\n",
      "\n",
      "[[ 0.91138025]\n",
      " [ 0.09022755]]\n",
      "0.00799723533138\n",
      "\n",
      "[[ 0.91845938]\n",
      " [ 0.08275459]]\n",
      "0.0067485974781\n",
      "\n",
      "[[ 0.92410049]\n",
      " [ 0.07684789]]\n",
      "0.00583316715057\n",
      "\n",
      "[[ 0.92873281]\n",
      " [ 0.07202678]]\n",
      "0.0051334346189\n",
      "\n",
      "[[ 0.93262492]\n",
      " [ 0.06799504]]\n",
      "0.00458136305167\n",
      "\n",
      "[[ 0.93595476]\n",
      " [ 0.06455867]]\n",
      "0.00413480731901\n",
      "\n",
      "[[ 0.93884555]\n",
      " [ 0.06158453]]\n",
      "0.00376626018708\n",
      "\n",
      "[[ 0.94138576]\n",
      " [ 0.05897777]]\n",
      "0.00345700317562\n",
      "\n",
      "[[ 0.94364074]\n",
      " [ 0.05666873]]\n",
      "0.00319385603922\n",
      "\n",
      "[[ 0.94565996]\n",
      " [ 0.05460495]]\n",
      "0.00296727001753\n",
      "\n",
      "[[ 0.94748169]\n",
      " [ 0.05274603]]\n",
      "0.00277015823704\n",
      "\n",
      "[[ 0.94913602]\n",
      " [ 0.05106032]]\n",
      "0.0025971508016\n",
      "\n",
      "[[ 0.95064699]\n",
      " [ 0.04952262]]\n",
      "0.00244410489127\n",
      "\n",
      "[[ 0.95203409]\n",
      " [ 0.04811256]]\n",
      "0.00230777350748\n",
      "\n",
      "[[ 0.95331328]\n",
      " [ 0.04681348]]\n",
      "0.00218557599492\n",
      "\n"
     ]
    }
   ],
   "source": [
    "# A very simple example, building up a network and training it to map a column [1,2,3,4] to a column [1,0]\n",
    "# This is an example of classification, in this case [1,2,3,4] is in the first class\n",
    "\n",
    "net1 = Network(QuadraticCost_cls())\n",
    "net1.add_layer(Layer(4, 5, Sigmoid_cls())) # Hidden layer\n",
    "net1.add_layer(Layer(5, 10, Sigmoid_cls())) # Hidden layer\n",
    "net1.add_layer(Layer(10, 30, Sigmoid_cls())) # Hidden layer\n",
    "net1.add_layer(Layer(30, 2, Sigmoid_cls())) # Output layer\n",
    "\n",
    "x = np.array([1,2,3,4]).reshape(4,1)\n",
    "y = np.array([1,0]).reshape(2,1)\n",
    "\n",
    "# This is basic gradient descent - backprop gives us the gradient for weights and biases, we descent in that direction\n",
    "for i in range(20):\n",
    "    g_b, g_w = net1.backprop(x,y)\n",
    "    for j in range(len(net1.layers)):\n",
    "        layer = net1.layers[j]\n",
    "        layer.weights -= g_w[j]\n",
    "        layer.bias -= g_b[j]"
   ]
  },
  {
   "cell_type": "markdown",
   "metadata": {},
   "source": [
    "# Stochastic gradient descent\n",
    "\n",
    "If we have more than one training example, then we'll need a way to update the weights such that our cost function decreases by as much as possible over all of them - like with the perceptron. \n",
    "\n",
    "The batch gradient descent algorithm would involve computing the gradient (using backpropagation) for all training examples, and then updating it once - and then repeating that process for however many epochs we want to teach the network for. This uses a lot of memory and means we only descend the cost function after computing for all the training examples, and we can be liable to get stuck at a local minima. \n",
    "\n",
    "In stochastic gradient descent we instead descend the cost function after each individual training example. This is noisy but it still converges to the minima, and sometimes more noise is beneficial for escaping local minima. \n",
    "We actually used basically this for training our perceptron:\n",
    "```\n",
    "for x, y in training_data:\n",
    "    # Find error\n",
    "    w[0] += eta * error * x[0]\n",
    "    w[1] += eta * error * x[1]\n",
    "    bias += eta * error\n",
    "```\n",
    "\n",
    "Notice we update the weights and bias terms inside the loop over each training example. This is stochastic gradient descent. \n",
    "\n",
    "A compromise solution is the minibatch one, where we group our training data into batches on which we perform batch gradient descent sequentially. For example we might update the weights after every 64 training examples. This is much more efficient than stochastic gradient descent, but still has some noise and more regular descents than the pure batch method. "
   ]
  },
  {
   "cell_type": "markdown",
   "metadata": {},
   "source": [
    "We'll create a simple toy dataset of 500 examples, where each example has an input of shape (2,1) and each output has a shape (2,1)\n",
    "\n",
    "Our input values will all be between 0-1, and our target outputs will all be (1,0) or (0,1), ie another simple classif"
   ]
  },
  {
   "cell_type": "code",
   "execution_count": 177,
   "metadata": {},
   "outputs": [
    {
     "data": {
      "text/plain": [
       "array([[ 0.],\n",
       "       [ 0.]])"
      ]
     },
     "execution_count": 177,
     "metadata": {},
     "output_type": "execute_result"
    }
   ],
   "source": [
    "np.zeros(shape=(2,1))"
   ]
  },
  {
   "cell_type": "code",
   "execution_count": null,
   "metadata": {},
   "outputs": [],
   "source": []
  }
 ],
 "metadata": {
  "kernelspec": {
   "display_name": "Python 2",
   "language": "python",
   "name": "python2"
  },
  "language_info": {
   "codemirror_mode": {
    "name": "ipython",
    "version": 2
   },
   "file_extension": ".py",
   "mimetype": "text/x-python",
   "name": "python",
   "nbconvert_exporter": "python",
   "pygments_lexer": "ipython2",
   "version": "2.7.10"
  }
 },
 "nbformat": 4,
 "nbformat_minor": 2
}
