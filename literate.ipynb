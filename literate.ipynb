{
 "cells": [
  {
   "cell_type": "code",
   "execution_count": 1,
   "metadata": {},
   "outputs": [],
   "source": [
    "from IPython.core.interactiveshell import InteractiveShell\n",
    "InteractiveShell.ast_node_interactivity = \"all\" # Allow printing multiple outputs from each cell"
   ]
  },
  {
   "cell_type": "code",
   "execution_count": 2,
   "metadata": {},
   "outputs": [],
   "source": [
    "# Dependency for the computations\n",
    "import numpy as np\n",
    "\n",
    "# Dependency only for the charts\n",
    "import matplotlib.pyplot as plt\n",
    "import seaborn as sns # Make matplotlib charts look better\n",
    "sns.set(style='ticks')\n",
    "\n",
    "# Dependency only for adding methods to classes dynamically in jupyter (Jupyter Dynamic Classes)\n",
    "# See https://github.com/jupyter/notebook/issues/1243 and https://alexhagen.github.io/jdc/\n",
    "import jdc"
   ]
  },
  {
   "cell_type": "code",
   "execution_count": 3,
   "metadata": {},
   "outputs": [],
   "source": [
    "%matplotlib inline"
   ]
  },
  {
   "cell_type": "markdown",
   "metadata": {},
   "source": [
    "A literate programming notebook written as I follow http://neuralnetworksanddeeplearning.com/chap1.html (as recommended in fast.ai course lesson 2 notes)\n",
    "\n",
    "This is basically a 'My First Neural Network' notebook with (hopefully) copious documentation, built to learn NumPy and solidify the concepts for me before going back to using the higher-level libraries such as Keras/TensorFlow. It won't use GPU, and it isn't optimised for performance. It's just about checking I understand the concepts fully, and to explore the NumPy APIs.\n",
    "\n",
    "The end goal (based on the chapter 1 content) is to build an entry for the Kaggle MNIST competition, using a neural network, written from scratch - and for that neural network to be general enough for other problems. "
   ]
  },
  {
   "cell_type": "markdown",
   "metadata": {},
   "source": [
    "# Perceptrons\n",
    "\n",
    "A perceptron takes any number of binary inputs $x_0, x_1,..., x_n$ and outputs a single binary value. First we compute $\\sum_j x_j w_j$, where each $w_j \\in \\mathbb{R}$ is a weight (and there are equal numbers of inputs $x_i$ and weights $w_i$). This is the dot product of the two vectors, $\\mathbf{x} \\cdot \\mathbf{w}$, which we can compute using the `np.dot` method."
   ]
  },
  {
   "cell_type": "code",
   "execution_count": 4,
   "metadata": {},
   "outputs": [
    {
     "name": "stdout",
     "output_type": "stream",
     "text": [
      "7\n"
     ]
    }
   ],
   "source": [
    "x = [0, 0, 1, 1, 0] # 5 binary inputs\n",
    "w = [1, 2, 3, 4, 1] # 5 real-valued weights\n",
    "\n",
    "dot = np.dot(x, w)\n",
    "print(dot)"
   ]
  },
  {
   "cell_type": "markdown",
   "metadata": {},
   "source": [
    "So for a perceptron we see that because of the binary-valued inputs, the output of $\\mathbf{x} \\cdot \\mathbf{w}$ is simply the sum of weights $w_j$ where $x_j = 1$. \n",
    "\n",
    "As mentioned, the output of a perceptron is in fact binary-valued, and this is done using a threshold: If $\\mathbf{x} \\cdot \\mathbf{w} \\le threshold$ then the perceptron outputs 0, otherwise it outputs 1. \n",
    "\n",
    "We replace the treshold with bias $-b = threshold$, and move it to the other side of the inequality, such that we have: If $\\mathbf{x} \\cdot \\mathbf{w} + b \\le 0$ then the perceptron outputs 0, otherwise it outputs 1. \n",
    "\n",
    "So we could fully capture a perceptron's behaviour with a simple method:"
   ]
  },
  {
   "cell_type": "code",
   "execution_count": 5,
   "metadata": {},
   "outputs": [
    {
     "data": {
      "text/plain": [
       "1"
      ]
     },
     "execution_count": 5,
     "metadata": {},
     "output_type": "execute_result"
    },
    {
     "data": {
      "text/plain": [
       "0"
      ]
     },
     "execution_count": 5,
     "metadata": {},
     "output_type": "execute_result"
    }
   ],
   "source": [
    "def perceptron(x, w, bias):\n",
    "    if np.dot(x, w) + bias <= 0:\n",
    "        return 0\n",
    "    else: \n",
    "        return 1\n",
    "\n",
    "# For example, using our x and w from before\n",
    "x = [0, 0, 1, 1, 0] \n",
    "w = [1, 2, 3, 4, 1] \n",
    "perceptron(x, w, bias=7)\n",
    "perceptron(x, w, bias=-10)"
   ]
  },
  {
   "cell_type": "code",
   "execution_count": 6,
   "metadata": {},
   "outputs": [
    {
     "data": {
      "text/plain": [
       "1"
      ]
     },
     "execution_count": 6,
     "metadata": {},
     "output_type": "execute_result"
    },
    {
     "data": {
      "text/plain": [
       "1"
      ]
     },
     "execution_count": 6,
     "metadata": {},
     "output_type": "execute_result"
    },
    {
     "data": {
      "text/plain": [
       "1"
      ]
     },
     "execution_count": 6,
     "metadata": {},
     "output_type": "execute_result"
    },
    {
     "data": {
      "text/plain": [
       "0"
      ]
     },
     "execution_count": 6,
     "metadata": {},
     "output_type": "execute_result"
    }
   ],
   "source": [
    "# From the book, using the perceptron to implement NAND \n",
    "w = [-2, -2]\n",
    "bias = 3\n",
    "\n",
    "for x1, x2 in [(0,0), (0,1), (1,0), (1,1)]:\n",
    "    perceptron([x1,x2], w, bias)"
   ]
  },
  {
   "cell_type": "markdown",
   "metadata": {},
   "source": [
    "We can in fact use a perceptron to learn any linearly separable function, including NAND. To show this, let's consider how a perceptron learns. \n",
    "\n",
    "We start with randomly initialised weights and bias terms. We also pass in training data, in tuples of (input, output) ie (x, y). For a binary function this is ((x1, x2), y).\n",
    "\n",
    "Then for each **epoch** (ie the number of times we want to learn), we take each training example, and using its input and our current weights we compute the current value of the perceptron on that input. We find the difference between the expected output `y` and the current output, the error term. Note that this must be computed `y - output` - the order matters. The error term will either be 0, 1 or -1. \n",
    "\n",
    "We adjust the weights in each position $w_i$ by $w_i += \\eta * error * x_i$ ($\\eta$, eta is just a learning rate that we can tweak - it changes how quickly the weights change for wrong examples.) We adjust the bias by $\\eta * error$, since it's not linked to any weight directly. \n",
    "\n",
    "Assuming the input training data is linearly separable this algorithm will converge to 100% accuracy in a finite number of epochs. \n",
    "\n",
    "\n",
    "To demonstrate this, we'll define a function to train a perceptron - and demonstrate it on the NAND case. "
   ]
  },
  {
   "cell_type": "code",
   "execution_count": 10,
   "metadata": {},
   "outputs": [],
   "source": [
    "def train_perceptron(training_data, epochs=30, eta=1):\n",
    "    x_len = len(training_data[0][0]) # Tuples of ((xs...), y) - want len xs\n",
    "\n",
    "    w = np.random.rand(x_len) # Random starting weights equal length to x_len, 0-1\n",
    "    bias = np.random.rand() # Random starting bias, 0-1\n",
    "\n",
    "    errors = {} # Count errors at each epoch\n",
    "\n",
    "    for i in range(epochs):\n",
    "        errors[i] = 0\n",
    "        for x, y in training_data:\n",
    "            output = perceptron(x, w, bias)\n",
    "            error = y - output\n",
    "            if error != 0:\n",
    "                errors[i]+=1\n",
    "\n",
    "            w[0] += eta * error * x[0]\n",
    "            w[1] += eta * error * x[1]\n",
    "            bias += eta * error\n",
    "    \n",
    "    return w, bias, errors\n",
    "\n",
    "\n",
    "training_data = [((0,0), 1), ((0, 1), 1), ((1,0), 1), ((1,1), 0)] # Tuples of ((x1,x2), x1 NAND x2)\n",
    "\n",
    "w, b, errors = train_perceptron(training_data)"
   ]
  },
  {
   "cell_type": "code",
   "execution_count": 11,
   "metadata": {},
   "outputs": [
    {
     "data": {
      "text/plain": [
       "<matplotlib.figure.Figure at 0x113447690>"
      ]
     },
     "execution_count": 11,
     "metadata": {},
     "output_type": "execute_result"
    },
    {
     "data": {
      "text/plain": [
       "Text(0.5,0,u'epoch')"
      ]
     },
     "execution_count": 11,
     "metadata": {},
     "output_type": "execute_result"
    },
    {
     "data": {
      "text/plain": [
       "Text(0,0.5,u'errors')"
      ]
     },
     "execution_count": 11,
     "metadata": {},
     "output_type": "execute_result"
    },
    {
     "data": {
      "text/plain": [
       "Text(0.5,1,u'Errors at each epoch')"
      ]
     },
     "execution_count": 11,
     "metadata": {},
     "output_type": "execute_result"
    },
    {
     "data": {
      "text/plain": [
       "[<matplotlib.lines.Line2D at 0x113610dd0>]"
      ]
     },
     "execution_count": 11,
     "metadata": {},
     "output_type": "execute_result"
    },
    {
     "data": {
      "image/png": "[encoded data removed]",
      "text/plain": [
       "<matplotlib.figure.Figure at 0x113447690>"
      ]
     },
     "metadata": {},
     "output_type": "display_data"
    }
   ],
   "source": [
    "plt.figure()\n",
    "xs = errors.keys()\n",
    "ys = errors.values()\n",
    "plt.xlabel('epoch')\n",
    "plt.ylabel('errors')\n",
    "plt.title('Errors at each epoch')\n",
    "plt.plot(xs, ys)"
   ]
  },
  {
   "cell_type": "code",
   "execution_count": 12,
   "metadata": {},
   "outputs": [
    {
     "data": {
      "text/plain": [
       "(-1, 1)"
      ]
     },
     "execution_count": 12,
     "metadata": {},
     "output_type": "execute_result"
    },
    {
     "data": {
      "text/plain": [
       "(-1, 1)"
      ]
     },
     "execution_count": 12,
     "metadata": {},
     "output_type": "execute_result"
    },
    {
     "data": {
      "text/plain": [
       "Text(0.5,1,u'Separation boundary found')"
      ]
     },
     "execution_count": 12,
     "metadata": {},
     "output_type": "execute_result"
    },
    {
     "data": {
      "text/plain": [
       "[<matplotlib.lines.Line2D at 0x113796790>]"
      ]
     },
     "execution_count": 12,
     "metadata": {},
     "output_type": "execute_result"
    },
    {
     "data": {
      "image/png": "[encoded data removed]",
      "text/plain": [
       "<matplotlib.figure.Figure at 0x1134eff50>"
      ]
     },
     "metadata": {},
     "output_type": "display_data"
    }
   ],
   "source": [
    "x_intersect = [0,-bias/w[1]]\n",
    "y_intersect = [-bias/w[0],0]\n",
    "plt.xlim([-1,1])\n",
    "plt.ylim([-1,1])\n",
    "plt.title('Separation boundary found')\n",
    "plt.plot(x_intersect, y_intersect)"
   ]
  },
  {
   "cell_type": "markdown",
   "metadata": {},
   "source": [
    "We can see the effect of using a smaller eta variable on the same training data:"
   ]
  },
  {
   "cell_type": "code",
   "execution_count": 13,
   "metadata": {},
   "outputs": [
    {
     "data": {
      "text/plain": [
       "<matplotlib.figure.Figure at 0x1134907d0>"
      ]
     },
     "execution_count": 13,
     "metadata": {},
     "output_type": "execute_result"
    },
    {
     "data": {
      "text/plain": [
       "Text(0.5,0,u'epoch')"
      ]
     },
     "execution_count": 13,
     "metadata": {},
     "output_type": "execute_result"
    },
    {
     "data": {
      "text/plain": [
       "Text(0,0.5,u'errors')"
      ]
     },
     "execution_count": 13,
     "metadata": {},
     "output_type": "execute_result"
    },
    {
     "data": {
      "text/plain": [
       "Text(0.5,1,u'Errors at each epoch')"
      ]
     },
     "execution_count": 13,
     "metadata": {},
     "output_type": "execute_result"
    },
    {
     "data": {
      "text/plain": [
       "[<matplotlib.lines.Line2D at 0x1137e6d10>]"
      ]
     },
     "execution_count": 13,
     "metadata": {},
     "output_type": "execute_result"
    },
    {
     "data": {
      "image/png": "[encoded data removed]",
      "text/plain": [
       "<matplotlib.figure.Figure at 0x1134907d0>"
      ]
     },
     "metadata": {},
     "output_type": "display_data"
    }
   ],
   "source": [
    "w, b, errors = train_perceptron(training_data, eta=0.05)\n",
    "\n",
    "plt.figure()\n",
    "xs = errors.keys()\n",
    "ys = errors.values()\n",
    "plt.xlabel('epoch')\n",
    "plt.ylabel('errors')\n",
    "plt.title('Errors at each epoch')\n",
    "plt.plot(xs, ys)"
   ]
  },
  {
   "cell_type": "markdown",
   "metadata": {},
   "source": [
    "Perceptrons have some limitations:\n",
    "\n",
    "- They only converge for linearly separable problems, which most interesting problems are not\n",
    "- Because they use a step function, we can't make small tweaks to their output - it's either 0 or 1\n",
    "\n",
    "The way we deal with the first issue will be by building networks of neurons, where the output of one layer can be inputs to the next layer. This allows us to solve complex problems (or, mathematically - can approximate to an arbitrary accuracy any function). However this exasperates our second problem - without being able to tweak our perceptrons in a predictable way we're not going to be able to create a trainable network of them. \n",
    "\n",
    "For this reason, we change the non-linearity, that is the **activation function**. Our computed $\\mathbf{x} \\cdot \\mathbf{w} + b$ doesn't need to change, but instead of using the inequality with 0, we pass this value to a different function."
   ]
  },
  {
   "cell_type": "markdown",
   "metadata": {},
   "source": [
    "# Sigmoid neurons\n",
    "\n",
    "The sigmoid neuron uses the activation function $\\sigma(z) = \\frac{1}{1+e^-z}$, where z is our computed $\\mathbf{x} \\cdot \\mathbf{w} + b$. Before we code this, we can examine its shape:"
   ]
  },
  {
   "cell_type": "code",
   "execution_count": 14,
   "metadata": {},
   "outputs": [],
   "source": [
    "def sigmoid_fn(x):\n",
    "    return 1/(1+np.exp(-x))"
   ]
  },
  {
   "cell_type": "code",
   "execution_count": 15,
   "metadata": {},
   "outputs": [
    {
     "data": {
      "text/plain": [
       "Text(0.5,1,u'Sigmoid')"
      ]
     },
     "execution_count": 15,
     "metadata": {},
     "output_type": "execute_result"
    },
    {
     "data": {
      "text/plain": [
       "[<matplotlib.lines.Line2D at 0x1138ef610>]"
      ]
     },
     "execution_count": 15,
     "metadata": {},
     "output_type": "execute_result"
    },
    {
     "data": {
      "image/png": "[encoded data removed]",
      "text/plain": [
       "<matplotlib.figure.Figure at 0x1137a8f50>"
      ]
     },
     "metadata": {},
     "output_type": "display_data"
    }
   ],
   "source": [
    "xs = np.linspace(-5,5,100) # 100 evenly spaced values between -5 and 5\n",
    "ys = sigmoid_fn(xs)\n",
    "\n",
    "plt.title('Sigmoid')\n",
    "plt.plot(xs, ys)"
   ]
  },
  {
   "cell_type": "code",
   "execution_count": 16,
   "metadata": {},
   "outputs": [
    {
     "data": {
      "text/plain": [
       "Text(0.5,1,u'Step function')"
      ]
     },
     "execution_count": 16,
     "metadata": {},
     "output_type": "execute_result"
    },
    {
     "data": {
      "text/plain": [
       "[<matplotlib.lines.Line2D at 0x113a5d0d0>]"
      ]
     },
     "execution_count": 16,
     "metadata": {},
     "output_type": "execute_result"
    },
    {
     "data": {
      "image/png": "[encoded data removed]",
      "text/plain": [
       "<matplotlib.figure.Figure at 0x11397f550>"
      ]
     },
     "metadata": {},
     "output_type": "display_data"
    }
   ],
   "source": [
    "# Compare this to the step function:\n",
    "\n",
    "def step(x):\n",
    "    return 1 if x>0 else 0\n",
    "\n",
    "xs = np.linspace(-5,5,100) # 100 evenly spaced values between -5 and 5\n",
    "ys = [step(x) for x in xs]\n",
    "\n",
    "plt.title('Step function')\n",
    "plt.plot(xs, ys)"
   ]
  },
  {
   "cell_type": "markdown",
   "metadata": {},
   "source": [
    "We can see that the sigmoid is a smoothed step function, maintaining the bounds of 0 and 1, but changing by only a small amount each time its input changes. This is the only difference between the sigmoid and perceptron, but it turns out to be significant. "
   ]
  },
  {
   "cell_type": "markdown",
   "metadata": {},
   "source": [
    "At this point it makes sense to generalise our code to define a neuron, with a view to eventually building up a neural network - that is, a network of layers of neurons. So let's define a neuron:"
   ]
  },
  {
   "cell_type": "code",
   "execution_count": 17,
   "metadata": {},
   "outputs": [],
   "source": [
    "class Neuron:\n",
    "    def __init__(self, num_inputs, activation_function):\n",
    "        # We always initialise a neuron with random weights and bias\n",
    "        # We must pass an activation function, as this is different for each type of neuron\n",
    "        self.weights = np.random.rand(num_inputs)\n",
    "        self.bias = np.random.rand()\n",
    "        self.num_inputs = num_inputs # This will let us generalise updates\n",
    "        self.activation_function = activation_function\n",
    "        \n",
    "    def _compute_value(self, xs):\n",
    "        # Compute the value of the neuron for the given inputs\n",
    "        return np.dot(xs, self.weights) + self.bias\n",
    "    \n",
    "    def get_value(self, xs):\n",
    "        return self.activation_function(self._compute_value(xs))"
   ]
  },
  {
   "cell_type": "markdown",
   "metadata": {},
   "source": [
    "Essentially, a neuron knows how to compute its value from its weights and bias term, and it has an activation function, which takes such a value and computes the desired output for the neuron. "
   ]
  },
  {
   "cell_type": "code",
   "execution_count": 18,
   "metadata": {},
   "outputs": [
    {
     "data": {
      "text/plain": [
       "1"
      ]
     },
     "execution_count": 18,
     "metadata": {},
     "output_type": "execute_result"
    },
    {
     "data": {
      "text/plain": [
       "0.59362074518279129"
      ]
     },
     "execution_count": 18,
     "metadata": {},
     "output_type": "execute_result"
    }
   ],
   "source": [
    "# So a perceptron is simply:\n",
    "perceptron = Neuron(2, activation_function = step)\n",
    "perceptron.get_value([0,0])\n",
    "\n",
    "# And a sigmoid is simply:\n",
    "sigmoid = Neuron(2, activation_function = sigmoid_fn)\n",
    "sigmoid.get_value([0,0])"
   ]
  },
  {
   "cell_type": "markdown",
   "metadata": {},
   "source": [
    "Now we can re-implement our learning method using the generic neuron (and thus supporting any given activation function)"
   ]
  },
  {
   "cell_type": "code",
   "execution_count": 24,
   "metadata": {},
   "outputs": [],
   "source": [
    "%%add_to Neuron\n",
    "def train(self, training_data, epochs=30, eta=0.05):\n",
    "    errors = {}\n",
    "\n",
    "    for i in range(epochs):\n",
    "        errors[i] = 0\n",
    "        for X, y in training_data:\n",
    "            output = self.get_value(X)\n",
    "            error = y - output\n",
    "            if np.absolute(error) > 0.5: # Not a binary output, so allow some difference here - as long as we're close\n",
    "                errors[i]+=1\n",
    "\n",
    "            # Update each weight in turn, and the bias\n",
    "            for j in range(self.num_inputs):\n",
    "                self.weights[j] += eta * error * X[j]\n",
    "            self.bias += eta * error\n",
    "    \n",
    "    return errors"
   ]
  },
  {
   "cell_type": "code",
   "execution_count": 25,
   "metadata": {},
   "outputs": [],
   "source": [
    "sigmoid = Neuron(2, activation_function = step) # Make sure we re-create the neuron to get the new method included\n",
    "errors = sigmoid.train(training_data)"
   ]
  },
  {
   "cell_type": "code",
   "execution_count": 26,
   "metadata": {},
   "outputs": [
    {
     "data": {
      "text/plain": [
       "(-1, 1)"
      ]
     },
     "execution_count": 26,
     "metadata": {},
     "output_type": "execute_result"
    },
    {
     "data": {
      "text/plain": [
       "(-1, 1)"
      ]
     },
     "execution_count": 26,
     "metadata": {},
     "output_type": "execute_result"
    },
    {
     "data": {
      "text/plain": [
       "Text(0.5,1,u'Separation boundary found')"
      ]
     },
     "execution_count": 26,
     "metadata": {},
     "output_type": "execute_result"
    },
    {
     "data": {
      "text/plain": [
       "[<matplotlib.lines.Line2D at 0x113aaee10>]"
      ]
     },
     "execution_count": 26,
     "metadata": {},
     "output_type": "execute_result"
    },
    {
     "data": {
      "image/png": "[encoded data removed]",
      "text/plain": [
       "<matplotlib.figure.Figure at 0x113a98f50>"
      ]
     },
     "metadata": {},
     "output_type": "display_data"
    }
   ],
   "source": [
    "x_intersect = [0,-sigmoid.bias/sigmoid.weights[1]]\n",
    "y_intersect = [-sigmoid.bias/sigmoid.weights[0],0]\n",
    "plt.xlim([-1,1])\n",
    "plt.ylim([-1,1])\n",
    "plt.title('Separation boundary found')\n",
    "plt.plot(x_intersect, y_intersect)"
   ]
  },
  {
   "cell_type": "code",
   "execution_count": 27,
   "metadata": {},
   "outputs": [
    {
     "data": {
      "text/plain": [
       "<matplotlib.figure.Figure at 0x113b6a0d0>"
      ]
     },
     "execution_count": 27,
     "metadata": {},
     "output_type": "execute_result"
    },
    {
     "data": {
      "text/plain": [
       "Text(0.5,0,u'epoch')"
      ]
     },
     "execution_count": 27,
     "metadata": {},
     "output_type": "execute_result"
    },
    {
     "data": {
      "text/plain": [
       "Text(0,0.5,u'errors')"
      ]
     },
     "execution_count": 27,
     "metadata": {},
     "output_type": "execute_result"
    },
    {
     "data": {
      "text/plain": [
       "Text(0.5,1,u'Errors at each epoch')"
      ]
     },
     "execution_count": 27,
     "metadata": {},
     "output_type": "execute_result"
    },
    {
     "data": {
      "text/plain": [
       "[<matplotlib.lines.Line2D at 0x113bbc490>]"
      ]
     },
     "execution_count": 27,
     "metadata": {},
     "output_type": "execute_result"
    },
    {
     "data": {
      "image/png": "[encoded data removed]",
      "text/plain": [
       "<matplotlib.figure.Figure at 0x113b6a0d0>"
      ]
     },
     "metadata": {},
     "output_type": "display_data"
    }
   ],
   "source": [
    "plt.figure()\n",
    "xs = errors.keys()\n",
    "ys = errors.values()\n",
    "plt.xlabel('epoch')\n",
    "plt.ylabel('errors')\n",
    "plt.title('Errors at each epoch')\n",
    "plt.plot(xs, ys)"
   ]
  },
  {
   "cell_type": "markdown",
   "metadata": {},
   "source": [
    "# A layer of neurons: Naive\n",
    "\n",
    "Like a perceptron, a sigmoid can only classify linearly separable problems. To solve general problems we need to have multiple layers of neurons - and because each neuron has a non-linear activation function this will provide us a non-linear system and allow us to approximate non-linearly separable (actually, all) functions. \n",
    "\n",
    "Let's first consider what a layer of neurons actually looks like, in the simplest way:"
   ]
  },
  {
   "cell_type": "code",
   "execution_count": 31,
   "metadata": {},
   "outputs": [],
   "source": [
    "class Layer:     \n",
    "    def __init__(self):\n",
    "        self.neurons = []\n",
    "    \n",
    "    def add_neuron(self, neuron):\n",
    "        self.neurons.append(neuron)\n",
    "        \n",
    "    def evaluate(self, xs):\n",
    "        outputs = []\n",
    "        for neuron in self.neurons:\n",
    "            outputs.append(neuron.get_value(xs))\n",
    "        \n",
    "        return outputs"
   ]
  },
  {
   "cell_type": "markdown",
   "metadata": {},
   "source": [
    "A layer of neurons just contains the neurons that have been added to it. It receives some input - just like a single neuron does - but its output contains the computed value of each neuron in the layer.\n",
    "\n",
    "The way to think of this is as the layer receiving the output of the previous layer, or the inputs to the network as a whole. Then the outputs of this layer could be the outputs of the network as a whole, or they could be fed forward into the next layer. \n",
    "\n",
    "In each layer, every neuron receives as input the complete output of the last layer. We call these layers 'fully connected' or 'dense', and they're the only sort of layer we'll consider here. \n",
    "\n",
    "Consider a layer of 3 neurons:"
   ]
  },
  {
   "cell_type": "code",
   "execution_count": 35,
   "metadata": {},
   "outputs": [
    {
     "data": {
      "text/plain": [
       "[0.018803366158459317, 0.0055277798727698503, 0.0035935043281133186]"
      ]
     },
     "execution_count": 35,
     "metadata": {},
     "output_type": "execute_result"
    },
    {
     "data": {
      "text/plain": [
       "[0.63737087598981579,\n",
       " 0.68258138596641327,\n",
       " 0.64940396134067679,\n",
       " 0.89168175158855956,\n",
       " 0.58822509724255811,\n",
       " 0.57327080883313697]"
      ]
     },
     "execution_count": 35,
     "metadata": {},
     "output_type": "execute_result"
    }
   ],
   "source": [
    "layer = Layer()\n",
    "for i in range(3): # Add 3 neurons\n",
    "    sig = Neuron(4, activation_function = sigmoid_fn) # Each sigmoid takes 4 inputs\n",
    "    layer.add_neuron(sig)\n",
    "\n",
    "layer.evaluate([1,-4,3,-6]) # We can evaluate any 4 real numbers as input\n",
    "\n",
    "for i in range(3): # Add 3 more neurons\n",
    "    sig = Neuron(4, activation_function = sigmoid_fn) # Each sigmoid takes 4 inputs\n",
    "    layer.add_neuron(sig)\n",
    "\n",
    "layer.evaluate([1, 0, 1, -1])"
   ]
  },
  {
   "cell_type": "markdown",
   "metadata": {},
   "source": [
    "As we can see, our layer takes as input 4 values, and each of its neurons can take as input such a list. It evaluates to 3 outputs, because we added 3 neurons. When we add another 3 neurons for a total of 6, it evaluates to 6 outputs.\n",
    "\n",
    "Clearly all of our neurons need to share the same number of inputs - the same input it passed to all of them when we evaluate them. A better API would enforce this constraint. I'm not sure if there's ever a reason to mix-and-match activation functions within a layer, but we're not going to do that here - so let's also make the activation function a parameter of the `Layer` and enforce that it's the same for all neurons. Here's a better API for a `Layer`:"
   ]
  },
  {
   "cell_type": "code",
   "execution_count": 86,
   "metadata": {},
   "outputs": [
    {
     "data": {
      "text/plain": [
       "[0.99988511017743831, 0.98476962232041898, 0.9974994949585243]"
      ]
     },
     "execution_count": 86,
     "metadata": {},
     "output_type": "execute_result"
    },
    {
     "data": {
      "text/plain": [
       "[0.49494338002138449,\n",
       " 0.66045195061091122,\n",
       " 0.42850155013043695,\n",
       " 0.71651070579179688,\n",
       " 0.41453063689073588,\n",
       " 0.91227449555025664]"
      ]
     },
     "execution_count": 86,
     "metadata": {},
     "output_type": "execute_result"
    }
   ],
   "source": [
    "class Layer:\n",
    "    def __init__(self, num_inputs, num_neurons, activation_function):\n",
    "        self.neurons = []\n",
    "        for i in range(num_neurons):\n",
    "            neuron = Neuron(num_inputs, activation_function)\n",
    "            self.neurons.append(neuron)\n",
    "            \n",
    "    def evaluate(self, xs):\n",
    "        outputs = []\n",
    "        for neuron in self.neurons:\n",
    "            outputs.append(neuron.get_value(xs))\n",
    "        \n",
    "        return outputs\n",
    "    \n",
    "layer = Layer(4, 3, sigmoid_fn)\n",
    "layer.evaluate([1,2,3,4])\n",
    "\n",
    "layer = Layer(4, 6, sigmoid_fn)\n",
    "layer.evaluate([1,-1,1,-1])"
   ]
  },
  {
   "cell_type": "markdown",
   "metadata": {},
   "source": [
    "Notice that we've lost some power here - we can no longer add to a layer after it's been created. It'd be easy enough to add that back, but we won't need to do that here so we'll keep the simpler class going forward. "
   ]
  },
  {
   "cell_type": "markdown",
   "metadata": {},
   "source": [
    "# Representing a layer as a matrix\n",
    "\n",
    "Recall what's happening when we compute the value of each neuron - we compute $\\mathbf{w} \\cdot \\mathbf{x} + b$, and then we pass that to the activation function (eg. step or sigmoid). Note that as the dot product is the sum of element-wise multiples, $\\mathbf{w} \\cdot \\mathbf{x} = \\mathbf{x} \\cdot \\mathbf{w}$\n",
    "\n",
    "If we say that $\\mathbf{x}$, our input vector, is a column vector (which makes sense graphically if we vertically align neurons within a layer) of length $n$, then we know that $\\mathbf{w}$ is also a vector of length $n$. If we say that $\\mathbf{w}$ is a row vector (or we transpose it from a column vector so that it is), then we can compute the dot product by doing a matrix multiply of the two vectors.\n",
    "\n",
    "For example, let's say that $\\mathbf{w} = \\begin{pmatrix}1 & 2 & 3\\end{pmatrix}$ and $\\mathbf{x} = \\begin{pmatrix}5 \\\\ 10 \\\\ 2 \\end{pmatrix}$, then we can compute their dot product $\\mathbf{x} \\cdot \\mathbf{w} = \\begin{pmatrix}5 & 10 & 2\\end{pmatrix} \\begin{pmatrix}1 \\\\ 2 \\\\ 3 \\end{pmatrix} = (5x1) + (10x2) + (2x3) = 31$\n",
    "\n",
    "If we have a second neuron in the same layer (so receiving the same input $\\mathbf{x}$), with weights $\\mathbf{w'} = \\begin{pmatrix}2 & -2 & 0\\end{pmatrix}$, then we can say that $\\mathbf{x} \\cdot \\mathbf{w'} = \\begin{pmatrix}5 & 10 & 2\\end{pmatrix} \\begin{pmatrix}2 \\\\ -2 \\\\ 0 \\end{pmatrix} = (5x2) + (10x-2) + (2x0) = -10$\n",
    "\n",
    "Then we can say that the dot products for our layer are $\\begin{pmatrix}31 & -10\\end{pmatrix}$. Recall that the value (before the activation function) is $\\mathbf{w} \\cdot \\mathbf{x} + b$ - so we need to deal with our bias terms. Suppose the first neuron had bias $b = 3$ and the second neuron $b' = 5$, then we can add the bias terms using vector addition: $\\begin{pmatrix}31 & -10\\end{pmatrix} + \\begin{pmatrix}3 & 5\\end{pmatrix} = \\begin{pmatrix}34 & -5\\end{pmatrix}$\n",
    "\n",
    "And finally we apply the activation function, say for simplicity that these are perceptrons: $\\begin{pmatrix} 1 & 0\\end{pmatrix}$\n",
    "\n",
    "This works, but we haven't actually gained anything - we've just split adding our bias and passing through the activation function to the end, doing it after we've done each dot product - but we're still doing individual dot products, and then combining them into a vector we can add the bias terms to and then element-wise applying the activation function. It turns out that we can use matrix multiplication to compute all the neurons in the layer at the same time. We say that $\\mathbf{W}$ is a matrix, where each column is the weights of a single neuron. So for the above 2-neuron layer:\n",
    "n\n",
    "$\\mathbf{W} = \\begin{pmatrix} 1 & 2 \\\\ 2 & -2 \\\\ 3 & 0 \\end{pmatrix}$. Now, we use matrix multiplication: $\\begin{pmatrix}5 & 10 & 2 \\end{pmatrix} \\begin{pmatrix} 1 & 2 \\\\ 2 & -2 \\\\ 3 & 0 \\end{pmatrix} = \\begin{pmatrix}31 & -10 \\end{pmatrix}$\n",
    "\n",
    "We then add our bias terms, and apply the activation function to each element as before. \n",
    "\n",
    "This gives us a different way to view a layer of our network, it's simply a matrix $\\mathbf{W}$ - we don't need to loop over all our neurons or even define them as their own objects. The matrix has one column for each neuron (representing its weights). Recall that the length of each neuron's weights (ie the number of rows) is equal to the length of the input (our matrix multiply form makes this obviously necessary). The number of rows is therefore fixed, but we can change the number of columns - this is essentially how complex the layer is. \n",
    "\n",
    "Of course, our last layer needs to have the expected output shape for the problem - and therefore has a known number of columns. We can control the number of neurons, and thus columns, in all other layers though."
   ]
  },
  {
   "cell_type": "code",
   "execution_count": 107,
   "metadata": {},
   "outputs": [
    {
     "data": {
      "text/plain": [
       "array([[ 0.46897782,  0.95745582]])"
      ]
     },
     "execution_count": 107,
     "metadata": {},
     "output_type": "execute_result"
    }
   ],
   "source": [
    "# Rewriting our Layer using the matrix multiply form\n",
    "class Layer:\n",
    "        def __init__(self, num_inputs, num_neurons, activation_function):\n",
    "            # We use Xavier initialization, variance = 2/(in size + out size) - this scales our random weights sensibly\n",
    "            # The shape of our weights is m x n, where m = num rows = num_inputs, and n=num columns = num_neurons\n",
    "            variance = 2/float(num_inputs + num_neurons)\n",
    "            self.weights = np.random.normal(scale=variance, size=(num_inputs, num_neurons))           \n",
    "            \n",
    "            # The shape of bias is 1 row, with a column for each neuron - a row vector.\n",
    "            self.bias = np.random.random_sample(size=(1, num_neurons))\n",
    "            \n",
    "            self.activation_function = activation_function\n",
    "            \n",
    "        def evaluate(self, xs):\n",
    "            # First, matrix multiply `x` by `W`, ie. xs by weights\n",
    "            xw = np.matmul(xs, self.weights)\n",
    "            \n",
    "            # Add the bias term\n",
    "            add_b = xw + self.bias\n",
    "            \n",
    "            # Pass through the activation function\n",
    "            return self.activation_function(add_b)\n",
    "\n",
    "layer = Layer(3, 2, sigmoid_fn)\n",
    "layer.evaluate([1,2,3])"
   ]
  },
  {
   "cell_type": "markdown",
   "metadata": {},
   "source": [
    "# From a layer to a network\n",
    "\n",
    "Now we have everything that we need to define a simple feed-forward neural network consisting of dense layers of neurons: we'll include our input and output layers as a layer of neurons, and we can have any layers between them - we just need to make sure our dimensions all match up.\n",
    "\n",
    "We won't consider our MNIST dataset in any detail yet, other than to say that it contains images of 28x28 greyscale pixels. One obvious way to represent this as an input would be as 28x28=784 values, with each representing the intensity of one pixel. Our job is to classify which number the image is a drawing of, a single digit 0-9. So our final layer will have 10 outputs representing the digits 0-9, each representing the probability that the image is that digit. We would predict that the drawing is the digit with the highest probability. We call all other layers (those that aren't the input or output layer) hidden layers, and we can choose how many of these we want, and how complex they should be. \n",
    "\n",
    "For example, if we wanted a single hidden layer with 40 neurons, then we'd need two layers of neurons:\n",
    "- A layer that takes as input 784 values, and has 40 neurons, and thus outputs 40 values - our hidden layer\n",
    "- A layer that takes as input 40 values, and has 10 neurons, and thus outputs 10 values - our output layer\n",
    "\n",
    "We'd generate predictions by evaluating the hidden layer with the input of 784 values, and then evaluating the output layer with the input of 40 values resulting from that. \n",
    "\n",
    "If we wanted to have two hidden layers with 50 and 110 neurons respectively, then we'd need three layers of neurons:\n",
    "- A layer that takes as input 784 values, and has 50 neurons, and thus outputs 50 values - our first hidden layer\n",
    "- A layer that takes as input 50 values, and has 110 neurons, and thus outputs 110 values - our second hidden layer\n",
    "- A layer that takes as input 110 values, and has 10 neurons, and thus outputs 10 values - our output layer"
   ]
  },
  {
   "cell_type": "code",
   "execution_count": 108,
   "metadata": {},
   "outputs": [],
   "source": [
    "# Let's see how a network looks in practice\n",
    "class Network:\n",
    "    def __init__(self):\n",
    "        self.layers = []\n",
    "        \n",
    "    def add_layer(self, layer):\n",
    "        self.layers.append(layer)\n",
    "        \n",
    "    def evaluate(self, xs):\n",
    "        value = xs\n",
    "        for layer in self.layers:\n",
    "            value = layer.evaluate(value)\n",
    "        \n",
    "        return value"
   ]
  },
  {
   "cell_type": "markdown",
   "metadata": {},
   "source": [
    "This looks very similar to our first attempt at a `Layer`, but this time we won't simplify any further: we want to permit any layer to be used in our network (so a network can contain layers with different activation functions), and additionally as each layer has a non-linearity (the activation function) we can't simplify the computation any further."
   ]
  },
  {
   "cell_type": "code",
   "execution_count": 115,
   "metadata": {},
   "outputs": [],
   "source": [
    "# Our examples of networks from above, using sigmoids:\n",
    "net1 = Network()\n",
    "net1.add_layer(Layer(784, 40, sigmoid_fn)) # Hidden layer\n",
    "net1.add_layer(Layer(40, 10, sigmoid_fn)) # Output layer\n",
    "\n",
    "net2 = Network()\n",
    "net2.add_layer(Layer(784, 50, sigmoid_fn)) # First hidden layer\n",
    "net2.add_layer(Layer(50, 110, sigmoid_fn)) # Second hidden layer\n",
    "net2.add_layer(Layer(110, 10, sigmoid_fn))"
   ]
  },
  {
   "cell_type": "code",
   "execution_count": 116,
   "metadata": {},
   "outputs": [
    {
     "data": {
      "text/plain": [
       "array([[ 0.66694757,  0.77980011,  0.53021121,  0.53906783,  0.55435153,\n",
       "         0.54134972,  0.67588133,  0.57473966,  0.68382566,  0.6079709 ]])"
      ]
     },
     "execution_count": 116,
     "metadata": {},
     "output_type": "execute_result"
    },
    {
     "data": {
      "text/plain": [
       "array([[ 0.53734983,  0.72514393,  0.62529806,  0.69951857,  0.62729341,\n",
       "         0.6806551 ,  0.66587793,  0.57455876,  0.58707587,  0.71957709]])"
      ]
     },
     "execution_count": 116,
     "metadata": {},
     "output_type": "execute_result"
    }
   ],
   "source": [
    "xs = np.random.random_sample(size=(784))\n",
    "\n",
    "net1.evaluate(xs)\n",
    "net2.evaluate(xs)"
   ]
  },
  {
   "cell_type": "markdown",
   "metadata": {},
   "source": [
    "# Training the network\n",
    "\n",
    "At this point we've got everything that we need to build a network, made of layers of neurons - to compute any classification problem. We do this by feeding the input through the layers, so we call this a feed-forward network. The problem we have now is training it: we can be given inputs and known outputs, we can pass it the input and observe the output, but we don't yet have a way to adjust the weights. We can't update them like we did for a single neuron - that doesn't capture our more subtle relationship between neurons within our network. \n",
    "\n",
    "This is where backpropagation comes in."
   ]
  },
  {
   "cell_type": "code",
   "execution_count": null,
   "metadata": {},
   "outputs": [],
   "source": []
  }
 ],
 "metadata": {
  "kernelspec": {
   "display_name": "Python 2",
   "language": "python",
   "name": "python2"
  },
  "language_info": {
   "codemirror_mode": {
    "name": "ipython",
    "version": 2
   },
   "file_extension": ".py",
   "mimetype": "text/x-python",
   "name": "python",
   "nbconvert_exporter": "python",
   "pygments_lexer": "ipython2",
   "version": "2.7.10"
  }
 },
 "nbformat": 4,
 "nbformat_minor": 2
}
